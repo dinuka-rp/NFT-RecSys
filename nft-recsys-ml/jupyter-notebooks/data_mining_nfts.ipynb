{
  "cells": [
    {
      "cell_type": "markdown",
      "metadata": {
        "id": "yMQzsKyvFlJ2"
      },
      "source": [
        "# Data Mining NFT Data\n",
        "\n",
        "## 2.1. NFT Data Collection \n",
        "\n",
        "OpenSea provides different APIs for fetching NFTs data. We will be using 2 of them:\n",
        "- [OpenSea Assets API](https://docs.opensea.io/reference#getting-assets)\n",
        "- [OpenSea Events API](https://docs.opensea.io/reference#retrieving-asset-events)\n",
        "\n",
        "```\n",
        "\n",
        "### 2.1.2. Fetching Data from OpenSea APIs\n",
        "\n",
        "We will use Python to fetch data from 2 OpenSea APIs:\n",
        "\n",
        "* [OpenSea Assets API](https://docs.opensea.io/reference#getting-assets): We will be using this API to retrieve the following data about each NFT:\n",
        "\n",
        "    - The Meebit's Id.\n",
        "    - The creator's username and address. The creator is the person who minted the Meebit to the blockchain.\n",
        "    - The owner's username and address.\n",
        "    - The Meebit's traits.\n",
        "    - The number of times the Meebit has been sold.\n",
        "\n",
        "* [OpenSea Events API](https://docs.opensea.io/reference#retrieving-asset-events): We will be using this API to retrieve the following data about each Meebit’s sale transaction:\n",
        "\n",
        "    - The Meebit's Id.\n",
        "    - The seller's username and address.\n",
        "    - The buyer's username and address.\n",
        "    - The sale's timestamp.\n",
        "    - The sale transaction's hash.\n",
        "    - The price.\n",
        "    - The token used for the sale.\n",
        "    - The price in USD.\n",
        "    - If the sale is a bundle of Meebits.\n",
        "\n",
        "I prepared [2 python functions](https://github.com/adilmoujahid/data-mining-nfts/blob/main/helpers.py) ```parse_meebit_data(meebit_dict)``` and ```parse_sale_data(sale_dict)``` for parsing the data that we’ll fetch from the OpenSea APIs. \n",
        "\n",
        "Next, from a Jupyter notebook, we import the Python libaries that we'll use for the analysis."
      ]
    },
    {
      "cell_type": "markdown",
      "metadata": {
        "id": "BOBhUfG3lFWJ"
      },
      "source": [
        "## Mount Google Drive\n",
        "\n"
      ]
    },
    {
      "cell_type": "code",
      "execution_count": null,
      "metadata": {
        "colab": {
          "base_uri": "https://localhost:8080/"
        },
        "id": "Pjk2AogglEja",
        "outputId": "a000ff57-e31f-4364-83de-be80ae06197e"
      },
      "outputs": [
        {
          "name": "stdout",
          "output_type": "stream",
          "text": [
            "Mounted at drive\n"
          ]
        }
      ],
      "source": [
        "from google.colab import drive\n",
        "drive.mount('drive')"
      ]
    },
    {
      "cell_type": "code",
      "execution_count": null,
      "metadata": {
        "id": "EPBnVc_XFlJ4"
      },
      "outputs": [],
      "source": [
        "# from helpers import parse_meebit_data, parse_sale_data\n",
        "import requests\n",
        "import pandas as pd\n",
        "import datetime, os\n",
        "import json\n",
        "import time"
      ]
    },
    {
      "cell_type": "code",
      "execution_count": null,
      "metadata": {
        "id": "ap3iIcemYmmm"
      },
      "outputs": [],
      "source": [
        "collection_dict = {} # {collection name: total NFTs in the collection}\n",
        "collection_slug = \"cryptokitties\""
      ]
    },
    {
      "cell_type": "code",
      "execution_count": null,
      "metadata": {
        "id": "NWDSJsAWFlJ3"
      },
      "outputs": [],
      "source": [
        "%matplotlib inline"
      ]
    },
    {
      "cell_type": "code",
      "execution_count": null,
      "metadata": {
        "id": "Zg_thYo7FlJ4"
      },
      "outputs": [],
      "source": [
        "import matplotlib\n",
        "import matplotlib.pyplot as plt"
      ]
    },
    {
      "cell_type": "code",
      "execution_count": null,
      "metadata": {
        "id": "25_0GY6bFlJ4"
      },
      "outputs": [],
      "source": [
        "plt.style.use('ggplot')"
      ]
    },
    {
      "cell_type": "markdown",
      "metadata": {
        "id": "Vnu5rP_Id9W7"
      },
      "source": [
        "## Get Collection stats\n",
        "to get the count of NFTs in a collection - this is needed to calculate rarity\n",
        "\n",
        "Can get this by calling the collection stats endpoint for each asset using the collection slug.\n",
        "\n",
        "Store this amount in an in-memory dictionary, so that the endpoint doesn't have to be called for each NFT."
      ]
    },
    {
      "cell_type": "code",
      "execution_count": null,
      "metadata": {
        "id": "BpN4ZDJieE3f"
      },
      "outputs": [],
      "source": [
        "def get_collection_total_supply_from_stats(collection_slug):\n",
        "  url = f\"https://api.opensea.io/api/v1/collection/{collection_slug}/stats\"\n",
        "\n",
        "  payload={}\n",
        "  # insert API Key\n",
        "  headers = {\n",
        "    'x-api-key': '',\n",
        "    'Cookie': '__cf_bm=EVZwjesj4IUTDZ46LVzydsiYMUCio2BVM3leYwyewM8-1644475667-0-AdheWp/egmMJxedEP1mAp5s0WPmmEhj6fBlVUM+3RJRHlESFcsbJdv7f8/03C9Fp8jhEXmtEAPQgMhjFaqSrsPE='\n",
        "  }\n",
        "\n",
        "  response = requests.request(\"GET\", url, headers=headers, data=payload)\n",
        "\n",
        "  print(response.text)\n",
        "\n",
        "  total_supply = response.json()['stats']['total_supply']\n",
        "\n",
        "  collection_dict[collection_slug] = total_supply\n",
        "\n",
        "  return total_supply"
      ]
    },
    {
      "cell_type": "code",
      "execution_count": null,
      "metadata": {
        "id": "E07fMVpCAsna"
      },
      "outputs": [],
      "source": [
        "get_collection_total_supply_from_stats(collection_slug)"
      ]
    },
    {
      "cell_type": "code",
      "execution_count": null,
      "metadata": {
        "id": "r2_-QaBga7Bo"
      },
      "outputs": [],
      "source": [
        "collection_dict[collection_slug]"
      ]
    },
    {
      "cell_type": "code",
      "execution_count": null,
      "metadata": {
        "id": "Io_t7u9WzLGx"
      },
      "outputs": [],
      "source": [
        "# assets_file_path = \"/content/drive/MyDrive/Datasets/FYP/bayc-nft-assets\" #Bored Ape Yacht Club\n",
        "# assets_file_path = \"/content/drive/MyDrive/Datasets/FYP/\"+ collection_slug +\"-nft-assets\" #by collection slugs\n",
        "# assets_file_path = \"/content/drive/MyDrive/Datasets/FYP/cryptokitties-nft-assets\"\n",
        "assets_file_path = \"/content/drive/MyDrive/Datasets/FYP/collected-nft-assets\""
      ]
    },
    {
      "cell_type": "markdown",
      "metadata": {
        "id": "5T0KaFgGCv5r"
      },
      "source": [
        "# Helper Methods"
      ]
    },
    {
      "cell_type": "code",
      "execution_count": null,
      "metadata": {
        "id": "x8U68thOp4Im"
      },
      "outputs": [],
      "source": [
        "# log_time = datetime.datetime.now().strftime(\"%Y%m%d-%H%M%S\")"
      ]
    },
    {
      "cell_type": "code",
      "execution_count": null,
      "metadata": {
        "id": "kMfRpcjeF8Ii"
      },
      "outputs": [],
      "source": [
        "def parse_nft_asset_data(nft_dict):\n",
        "\n",
        "    try:\n",
        "        collection_slug = nft_dict['collection']['slug']\n",
        "        \n",
        "        #  get Collection total supply of tokens - to calculate rarity of each NFT\n",
        "        # check if the slug is available in the collection_dict first\n",
        "        if collection_slug in collection_dict:\n",
        "          total_supply = collection_dict[collection_slug]\n",
        "        else:\n",
        "          time.sleep(1)\n",
        "          total_supply = get_collection_total_supply_from_stats(collection_slug)\n",
        "          time.sleep(2)\n",
        "\n",
        "    except:\n",
        "        collection_slug = None\n",
        "\n",
        "    \n",
        "    nft_id = nft_dict['token_id']\n",
        "    \n",
        "    try:\n",
        "        name = nft_dict['name']\n",
        "    except:\n",
        "        name = None\n",
        "\n",
        "    try:\n",
        "        asset_description = nft_dict['description']\n",
        "    except:\n",
        "        asset_description = None\n",
        "\n",
        "    try:\n",
        "        asset_contract_address = nft_dict['asset_contract']['address']\n",
        "    except:\n",
        "        asset_contract_address = None\n",
        "\n",
        "    try:\n",
        "        collection_name = nft_dict['collection']['name']\n",
        "    except:\n",
        "        collection_name = None\n",
        "    try:\n",
        "        collection_description = nft_dict['collection']['description']\n",
        "    except:\n",
        "        collection_description = None\n",
        "\n",
        "    try:\n",
        "        if nft_dict['collection']['safelist_request_status'] == 'verified':\n",
        "          collection_verification = True\n",
        "        else:\n",
        "          collection_verification = False\n",
        "    except:\n",
        "        collection_verification = None\n",
        "\n",
        "    try:\n",
        "        creator_username = nft_dict['creator']['user']['username']\n",
        "    except:\n",
        "        creator_username = None\n",
        "    try:\n",
        "        creator_address = nft_dict['creator']['address']\n",
        "    except:\n",
        "        creator_address = None\n",
        "    \n",
        "    try:\n",
        "        owner_username = nft_dict['owner']['user']['username']\n",
        "\n",
        "    except:\n",
        "        owner_username = None\n",
        "    \n",
        "    owner_address = nft_dict['owner']['address']\n",
        "    # if (owner_address == \"0x0000000000000000000000000000000000000000\"):\n",
        "    #   owner_address = None\n",
        "\n",
        "    \n",
        "    traits = nft_dict['traits']\n",
        "\n",
        "    traits_string = \"\"\n",
        "\n",
        "    # save total rarity in a separate column\n",
        "    total_rarity = 0\n",
        "    for trait in traits:\n",
        "      # for each trait, extract the trait_count and calculate rarity\n",
        "\n",
        "      if trait['trait_count'] and (total_supply) and (total_supply != 0):\n",
        "        # print(\"trait_count:\" + trait['trait_count'], \"total_supply:\" + total_supply)\n",
        "        trait_rarity = 1/ (trait['trait_count']/total_supply)\n",
        "\n",
        "        total_rarity += trait_rarity\n",
        "\n",
        "      # save all trait type and values in a ;; separated string. This will have to be split into an array when loaded - for content based filtering\n",
        "      # lowercase -> remove any spaces between the words before adding into the string\n",
        "      trait_type = trait['trait_type'].lower()\n",
        "\n",
        "      if isinstance(trait['value'], str):\n",
        "        trait_value = trait['value'].lower()\n",
        "        trait_string = trait_type + trait_value\n",
        "      else:\n",
        "        trait_value = trait['value']\n",
        "        trait_string = trait_type + str(trait_value)\n",
        "\n",
        "      trait_string = trait_string.replace(\" \", \"\")\n",
        "      traits_string = traits_string + trait_string + \";;\"    # typevalue;;typevalue\n",
        "\n",
        "    num_sales = int(nft_dict['num_sales'])\n",
        "\n",
        "    # this data may be valuable for a price prediction & to identify who owned the nft before and the transacted amount - might be able to get all these from the events api itself. \n",
        "    try:\n",
        "        # last_sale = nft_dict['last_sale']\n",
        "        last_sale_timestamp = nft_dict['last_sale']['event_timestamp']\n",
        "        last_sale_total_price = nft_dict['last_sale']['total_price']\n",
        "        last_sale_from_account_address = nft_dict['last_sale']['transaction']['from_account']['address']\n",
        "    except:\n",
        "        # last_sale = None\n",
        "        last_sale_timestamp = None\n",
        "        last_sale_total_price = None\n",
        "        last_sale_from_account_address = None\n",
        "\n",
        "    try:\n",
        "        top_bid = nft_dict['top_bid']\n",
        "    except:\n",
        "        top_bid = None\n",
        "\n",
        "\n",
        "    # save img urls, can be used to make the UIs colourful & attractive\n",
        "    try:\n",
        "        image_url = nft_dict['image_url']\n",
        "    except:\n",
        "        image_url = None\n",
        "\n",
        "    try:\n",
        "        collection_image_url = nft_dict['collection']['image_url']\n",
        "    except:\n",
        "        collection_image_url = None\n",
        "\n",
        "    try:\n",
        "        owner_profile_img_url = nft_dict['owner']['profile_img_url']\n",
        "    except:\n",
        "        owner_profile_img_url = None\n",
        "\n",
        "    try:\n",
        "        creator_profile_img_url = nft_dict['creator']['profile_img_url']\n",
        "    except:\n",
        "        creator_profile_img_url = None\n",
        "\n",
        "    try:\n",
        "        open_sea_link = nft_dict['permalink']\n",
        "    except:\n",
        "        open_sea_link = None\n",
        "\n",
        "\n",
        "    result = {'nft_id': nft_id,  # unique identifier in a collection/ contract?\n",
        "              'name': name,\n",
        "              'asset_description': asset_description,\n",
        "              'asset_contract_address': asset_contract_address,\n",
        "              'collection_name': collection_name,\n",
        "              'collection_description': collection_description,\n",
        "              'collection_slug': collection_slug,  # required to call collection related endpoints\n",
        "              'collection_verification': collection_verification,\n",
        "              'creator_username': creator_username,  # fancy data - address can be used to uniquely identify\n",
        "              'creator_address': creator_address,\n",
        "              'creator_profile_img_url': creator_profile_img_url,  # fancy data\n",
        "              'owner_username': owner_username,  # fancy data - address can be used to uniquely identify\n",
        "              'owner_address': owner_address,\n",
        "              'owner_profile_img_url': owner_profile_img_url,  # fancy data\n",
        "              'traits_string': traits_string,\n",
        "              'total_rarity': total_rarity,\n",
        "              'num_sales': num_sales,\n",
        "              # 'last_sale': last_sale,\n",
        "              'last_sale_timestamp': last_sale_timestamp,  # may be needed to normalize probable price based on other similar assets in the collection\n",
        "              'last_sale_total_price': last_sale_total_price, \n",
        "              'last_sale_from_account_address': last_sale_from_account_address,\n",
        "              'top_bid': top_bid,  # this seems to be useless at the moment - null is received, even though there are bids\n",
        "              'open_sea_link': open_sea_link,   # fancy data - to link the website in the frontend\n",
        "              'image_url': image_url,\n",
        "              }\n",
        "    \n",
        "    return result\n",
        "\n",
        "\n",
        "def parse_sale_data(sale_dict):\n",
        "    \n",
        "    is_bundle = False\n",
        "\n",
        "    if sale_dict['asset'] != None:\n",
        "        nft_id = sale_dict['asset']['token_id']\n",
        "    elif sale_dict['asset_bundle'] != None:\n",
        "        nft_id = [asset['token_id'] for asset in sale_dict['asset_bundle']['assets']]\n",
        "        is_bundle = True\n",
        "    \n",
        "    \n",
        "    seller_address = sale_dict['seller']['address']\n",
        "    buyer_address = sale_dict['winner_account']['address']\n",
        "    \n",
        "    try:\n",
        "        seller_username = sale_dict['seller']['user']['username']\n",
        "    except:\n",
        "        seller_username = None    \n",
        "    try:\n",
        "        buyer_username = sale_dict['winner_account']['user']['username']\n",
        "    except:\n",
        "        buyer_username = None\n",
        "    \n",
        "    timestamp = sale_dict['transaction']['timestamp']\n",
        "    total_price = float(sale_dict['total_price']) # this is given in WEI, need to divide by 10^18 to get the value in ETH\n",
        "    payment_token = sale_dict['payment_token']['symbol']\n",
        "    usd_price = float(sale_dict['payment_token']['usd_price']) # this is kind of useless, since the ultimate value will be in ETH\n",
        "    transaction_hash = sale_dict['transaction']['transaction_hash']\n",
        "    \n",
        "\n",
        "    result = {'is_bundle': is_bundle,\n",
        "              'nft_id': nft_id,\n",
        "              'seller_address': seller_address,\n",
        "              'seller_username':seller_username,\n",
        "              'buyer_address': buyer_address,\n",
        "              'buyer_username': buyer_username,\n",
        "              'timestamp': timestamp,\n",
        "              'total_price': total_price, \n",
        "              'payment_token': payment_token,\n",
        "              'usd_price': usd_price,\n",
        "              'transaction_hash': transaction_hash}\n",
        "    \n",
        "    return result"
      ]
    },
    {
      "cell_type": "markdown",
      "metadata": {
        "id": "BwSBj_aiFlJ6"
      },
      "source": [
        "# Getting NFT Assets Data\n",
        "\n",
        "The source code below collects assets data about the 20,000 NFTs. The API has a limit of 50 items per call, and therefore we need to create a loop with 100 iterations to collect the required amount of NFT data."
      ]
    },
    {
      "cell_type": "markdown",
      "metadata": {
        "id": "T4KVJFFW6HLM"
      },
      "source": [
        "**Get data from popular collections that have had transactions before**\n",
        "\n",
        " - new NFTs don't have much events data to offer.\n",
        " - Both data sets will be needed to show how effective the Recommendation Model is for different scenarios."
      ]
    },
    {
      "cell_type": "markdown",
      "metadata": {
        "id": "2bxDs_DHa-Sv"
      },
      "source": [
        "## Fetch NFT Asset Data"
      ]
    },
    {
      "cell_type": "markdown",
      "metadata": {
        "id": "l72hjspVHpLL"
      },
      "source": [
        "### OpenSea API Key"
      ]
    },
    {
      "cell_type": "code",
      "execution_count": null,
      "metadata": {
        "id": "8Tshk1i9Hrcu"
      },
      "outputs": [],
      "source": [
        "x_api_key = \"\"  # insert API Key"
      ]
    },
    {
      "cell_type": "markdown",
      "metadata": {
        "id": "bnciK2NLHtT_"
      },
      "source": [
        "### Fetch Open Sea Data"
      ]
    },
    {
      "cell_type": "code",
      "execution_count": null,
      "metadata": {
        "id": "CJ6e0J5GFlJ6"
      },
      "outputs": [],
      "source": [
        "def fetch_nft_asset_data():\n",
        "  url = \"https://api.opensea.io/api/v1/assets\"\n",
        "\n",
        "  for i in range(0, 1):\n",
        "      offset= 50 * i\n",
        "\n",
        "      querystring = {\n",
        "          # \"token_ids\":\"439146\",\n",
        "          # \"asset_contract_address\": \"0x06012c8cf97bead5deae237070f9587f8e7a266d\",\n",
        "          \"order_direction\": \"desc\",\n",
        "          \"offset\": offset,\n",
        "          \"limit\": \"50\",\n",
        "          # \"collection\": collection_slug\n",
        "          }\n",
        "\n",
        "      headers = {'x-api-key': x_api_key}\n",
        "\n",
        "      response = requests.get(url, params=querystring, headers=headers)\n",
        "      \n",
        "      # print(response.json()['assets'])\n",
        "      if response.status_code != 200:\n",
        "          print('error')\n",
        "          print(response)\n",
        "          break\n",
        "      \n",
        "      #Getting NFT data\n",
        "      nfts = response.json()['assets']\n",
        "\n",
        "      #Parsing NFT data\n",
        "      parsed_nft_assets = [parse_nft_asset_data(nft) for nft in nfts]\n",
        "\n",
        "      # convert json to pandas dataframe\n",
        "      nft_assets_df = pd.DataFrame(parsed_nft_assets)\n",
        "      # return nft_assets_df\n",
        "\n",
        "\n",
        "      # save dataframe to csv & save csv to Google Drive\n",
        "      nft_assets_df.to_csv(assets_file_path, mode='a', sep='\\t', index=False, header=(not os.path.exists(assets_file_path)), encoding='utf-8')\n",
        "\n",
        "      # save dataframe to json and save json to Google Drive\n",
        "      #  - difficult to append. Need to read all existing data and then append\n",
        "      # nft_assets_df.to_json(assets_file_path, index=False, header=(not os.path.exists(assets_file_path)), encoding='utf-8')\n",
        "\n",
        "      # save dataframe to MongoDB\n",
        "\n",
        "\n",
        "fetch_nft_asset_data()"
      ]
    },
    {
      "cell_type": "code",
      "execution_count": null,
      "metadata": {
        "id": "2QKPXcwwLw9o"
      },
      "outputs": [],
      "source": [
        "# nft_assets_df = fetch_nft_asset_data()\n",
        "\n",
        "# nft_assets_df.info()"
      ]
    },
    {
      "cell_type": "code",
      "execution_count": null,
      "metadata": {
        "id": "ckAEoFFr4a9h"
      },
      "outputs": [],
      "source": [
        "# nft_assets_df.head()"
      ]
    },
    {
      "cell_type": "markdown",
      "metadata": {
        "id": "Jr7b5hoysAe2"
      },
      "source": [
        "## Read CSV - check collected NFT data"
      ]
    },
    {
      "cell_type": "code",
      "execution_count": null,
      "metadata": {
        "colab": {
          "base_uri": "https://localhost:8080/"
        },
        "id": "_1SfWLU9r_64",
        "outputId": "8530e3e2-375a-4490-d17f-3179f71865fb"
      },
      "outputs": [
        {
          "name": "stdout",
          "output_type": "stream",
          "text": [
            "<class 'pandas.core.frame.DataFrame'>\n",
            "RangeIndex: 10101 entries, 0 to 10100\n",
            "Data columns (total 23 columns):\n",
            " #   Column                          Non-Null Count  Dtype  \n",
            "---  ------                          --------------  -----  \n",
            " 0   nft_id                          10101 non-null  object \n",
            " 1   name                            8592 non-null   object \n",
            " 2   asset_description               5919 non-null   object \n",
            " 3   asset_contract_address          10101 non-null  object \n",
            " 4   collection_name                 10101 non-null  object \n",
            " 5   collection_description          8050 non-null   object \n",
            " 6   collection_slug                 10101 non-null  object \n",
            " 7   collection_verification         10101 non-null  bool   \n",
            " 8   creator_username                7741 non-null   object \n",
            " 9   creator_address                 10033 non-null  object \n",
            " 10  creator_profile_img_url         10033 non-null  object \n",
            " 11  owner_username                  9497 non-null   object \n",
            " 12  owner_address                   10101 non-null  object \n",
            " 13  owner_profile_img_url           10101 non-null  object \n",
            " 14  traits_string                   3262 non-null   object \n",
            " 15  total_rarity                    10101 non-null  float64\n",
            " 16  num_sales                       10101 non-null  int64  \n",
            " 17  last_sale_timestamp             27 non-null     object \n",
            " 18  last_sale_total_price           27 non-null     float64\n",
            " 19  last_sale_from_account_address  27 non-null     object \n",
            " 20  top_bid                         0 non-null      float64\n",
            " 21  open_sea_link                   10101 non-null  object \n",
            " 22  image_url                       8556 non-null   object \n",
            "dtypes: bool(1), float64(3), int64(1), object(18)\n",
            "memory usage: 1.7+ MB\n"
          ]
        }
      ],
      "source": [
        "nft_assets_df = pd.read_csv(assets_file_path, sep='\\t')\n",
        "\n",
        "nft_assets_df.info()"
      ]
    },
    {
      "cell_type": "code",
      "execution_count": null,
      "metadata": {
        "id": "WAf4gQpgjtb_"
      },
      "outputs": [],
      "source": [
        "# remove duplicated NFTs from df\n",
        "\n",
        "# nft_assets_df.duplicated(subset=['nft_id']).sum()\n",
        "\n",
        "# nft_assets_df.loc[nft_assets_df.duplicated(), :]\n",
        "\n",
        "# nft_assets_df=nft_assets_df.drop_duplicates(subset=['nft_id'], keep=\"first\")"
      ]
    },
    {
      "cell_type": "code",
      "execution_count": null,
      "metadata": {
        "colab": {
          "base_uri": "https://localhost:8080/",
          "height": 513
        },
        "id": "mU5SYBkjsocc",
        "outputId": "01fd3508-e418-4559-cd3a-fd6507f3ed8e"
      },
      "outputs": [
        {
          "data": {
            "text/html": [
              "\n",
              "  <div id=\"df-e04ed81e-c896-4ba2-97c4-cc47a7098393\">\n",
              "    <div class=\"colab-df-container\">\n",
              "      <div>\n",
              "<style scoped>\n",
              "    .dataframe tbody tr th:only-of-type {\n",
              "        vertical-align: middle;\n",
              "    }\n",
              "\n",
              "    .dataframe tbody tr th {\n",
              "        vertical-align: top;\n",
              "    }\n",
              "\n",
              "    .dataframe thead th {\n",
              "        text-align: right;\n",
              "    }\n",
              "</style>\n",
              "<table border=\"1\" class=\"dataframe\">\n",
              "  <thead>\n",
              "    <tr style=\"text-align: right;\">\n",
              "      <th></th>\n",
              "      <th>nft_id</th>\n",
              "      <th>name</th>\n",
              "      <th>asset_description</th>\n",
              "      <th>asset_contract_address</th>\n",
              "      <th>collection_name</th>\n",
              "      <th>collection_description</th>\n",
              "      <th>collection_slug</th>\n",
              "      <th>collection_verification</th>\n",
              "      <th>creator_username</th>\n",
              "      <th>creator_address</th>\n",
              "      <th>creator_profile_img_url</th>\n",
              "      <th>owner_username</th>\n",
              "      <th>owner_address</th>\n",
              "      <th>owner_profile_img_url</th>\n",
              "      <th>traits_string</th>\n",
              "      <th>total_rarity</th>\n",
              "      <th>num_sales</th>\n",
              "      <th>last_sale_timestamp</th>\n",
              "      <th>last_sale_total_price</th>\n",
              "      <th>last_sale_from_account_address</th>\n",
              "      <th>top_bid</th>\n",
              "      <th>open_sea_link</th>\n",
              "      <th>image_url</th>\n",
              "    </tr>\n",
              "  </thead>\n",
              "  <tbody>\n",
              "    <tr>\n",
              "      <th>0</th>\n",
              "      <td>2541585283815458503018281017495372409420154545...</td>\n",
              "      <td>CelebCard #84 Snoop Dogg</td>\n",
              "      <td>NaN</td>\n",
              "      <td>0x495f947276749ce646f68ac8c248420045cb7b5e</td>\n",
              "      <td>Mesmerizer</td>\n",
              "      <td>No theme. No traits. No rules. A treasure trov...</td>\n",
              "      <td>mesmerizer</td>\n",
              "      <td>False</td>\n",
              "      <td>NaN</td>\n",
              "      <td>0x3830dce8b8f5543404e005776b4de22870c01d64</td>\n",
              "      <td>https://storage.googleapis.com/opensea-static/...</td>\n",
              "      <td>NullAddress</td>\n",
              "      <td>0x0000000000000000000000000000000000000000</td>\n",
              "      <td>https://storage.googleapis.com/opensea-static/...</td>\n",
              "      <td>NaN</td>\n",
              "      <td>0.0</td>\n",
              "      <td>0</td>\n",
              "      <td>NaN</td>\n",
              "      <td>NaN</td>\n",
              "      <td>NaN</td>\n",
              "      <td>NaN</td>\n",
              "      <td>https://opensea.io/assets/0x495f947276749ce646...</td>\n",
              "      <td>https://lh3.googleusercontent.com/DwknciiKsguS...</td>\n",
              "    </tr>\n",
              "    <tr>\n",
              "      <th>1</th>\n",
              "      <td>4460258260744616717349398633449740654585409544...</td>\n",
              "      <td>3D Penguin Planet Official Collection</td>\n",
              "      <td>3D Penguin Planet Collection It was hand paint...</td>\n",
              "      <td>0x495f947276749ce646f68ac8c248420045cb7b5e</td>\n",
              "      <td>3D Penguin Planet Official Collection</td>\n",
              "      <td>3D Penguin Planet Official Collection It was h...</td>\n",
              "      <td>3d-penguin-planet-official-collection</td>\n",
              "      <td>False</td>\n",
              "      <td>NaN</td>\n",
              "      <td>0x629c2ac970da51a3fa29af4015e06c250c267e36</td>\n",
              "      <td>https://storage.googleapis.com/opensea-static/...</td>\n",
              "      <td>NullAddress</td>\n",
              "      <td>0x0000000000000000000000000000000000000000</td>\n",
              "      <td>https://storage.googleapis.com/opensea-static/...</td>\n",
              "      <td>NaN</td>\n",
              "      <td>0.0</td>\n",
              "      <td>0</td>\n",
              "      <td>NaN</td>\n",
              "      <td>NaN</td>\n",
              "      <td>NaN</td>\n",
              "      <td>NaN</td>\n",
              "      <td>https://opensea.io/assets/0x495f947276749ce646...</td>\n",
              "      <td>https://lh3.googleusercontent.com/yzniUTh85SYY...</td>\n",
              "    </tr>\n",
              "    <tr>\n",
              "      <th>2</th>\n",
              "      <td>1143238369460653929904223751867794581426030911...</td>\n",
              "      <td>VECTOR KAS 10 (The Relax)</td>\n",
              "      <td>VECTOR KAS 10</td>\n",
              "      <td>0x495f947276749ce646f68ac8c248420045cb7b5e</td>\n",
              "      <td>Kalvintaka Collection</td>\n",
              "      <td>NaN</td>\n",
              "      <td>kalvintaka-collection</td>\n",
              "      <td>False</td>\n",
              "      <td>Creative_FineArts_and_Designs</td>\n",
              "      <td>0xfcc0ffa7b48f9af939ed6e9d3c535e371ab2f17f</td>\n",
              "      <td>https://storage.googleapis.com/opensea-static/...</td>\n",
              "      <td>NullAddress</td>\n",
              "      <td>0x0000000000000000000000000000000000000000</td>\n",
              "      <td>https://storage.googleapis.com/opensea-static/...</td>\n",
              "      <td>NaN</td>\n",
              "      <td>0.0</td>\n",
              "      <td>0</td>\n",
              "      <td>NaN</td>\n",
              "      <td>NaN</td>\n",
              "      <td>NaN</td>\n",
              "      <td>NaN</td>\n",
              "      <td>https://opensea.io/assets/0x495f947276749ce646...</td>\n",
              "      <td>https://lh3.googleusercontent.com/2xDLW3Nrrt8u...</td>\n",
              "    </tr>\n",
              "    <tr>\n",
              "      <th>3</th>\n",
              "      <td>5742295951199733757787373026863398866922647154...</td>\n",
              "      <td>Gooniez #1989</td>\n",
              "      <td>A gang of 8,888 gooniez unleashed to wreak hav...</td>\n",
              "      <td>0x495f947276749ce646f68ac8c248420045cb7b5e</td>\n",
              "      <td>Metaverse  GooniezNFT</td>\n",
              "      <td>A gang of 8,888 gooniez unleashed to wreak hav...</td>\n",
              "      <td>metaverse-goonieznft</td>\n",
              "      <td>False</td>\n",
              "      <td>GooniezNFTCollection</td>\n",
              "      <td>0x7ef43e4a20315830feacb23fe17f7cf2d49f2491</td>\n",
              "      <td>https://storage.googleapis.com/opensea-static/...</td>\n",
              "      <td>NullAddress</td>\n",
              "      <td>0x0000000000000000000000000000000000000000</td>\n",
              "      <td>https://storage.googleapis.com/opensea-static/...</td>\n",
              "      <td>NaN</td>\n",
              "      <td>0.0</td>\n",
              "      <td>0</td>\n",
              "      <td>NaN</td>\n",
              "      <td>NaN</td>\n",
              "      <td>NaN</td>\n",
              "      <td>NaN</td>\n",
              "      <td>https://opensea.io/assets/0x495f947276749ce646...</td>\n",
              "      <td>https://lh3.googleusercontent.com/Y4lDr3FzA7xm...</td>\n",
              "    </tr>\n",
              "    <tr>\n",
              "      <th>4</th>\n",
              "      <td>1006254684714400059060824656421626037946389019...</td>\n",
              "      <td>Darumaa Soul Story.#3</td>\n",
              "      <td>Works that are created by an Extraterrestrial ...</td>\n",
              "      <td>0x495f947276749ce646f68ac8c248420045cb7b5e</td>\n",
              "      <td>Extraterrestrial Soul Darumaa</td>\n",
              "      <td>Darumaa. Not Real &amp; Reality.\\n\\nWorks that are...</td>\n",
              "      <td>darumaa</td>\n",
              "      <td>False</td>\n",
              "      <td>FRABATO</td>\n",
              "      <td>0xde77ff31b3601243b0f41441e1f015456b2b1ad2</td>\n",
              "      <td>https://storage.googleapis.com/opensea-static/...</td>\n",
              "      <td>NullAddress</td>\n",
              "      <td>0x0000000000000000000000000000000000000000</td>\n",
              "      <td>https://storage.googleapis.com/opensea-static/...</td>\n",
              "      <td>NaN</td>\n",
              "      <td>0.0</td>\n",
              "      <td>0</td>\n",
              "      <td>NaN</td>\n",
              "      <td>NaN</td>\n",
              "      <td>NaN</td>\n",
              "      <td>NaN</td>\n",
              "      <td>https://opensea.io/assets/0x495f947276749ce646...</td>\n",
              "      <td>https://lh3.googleusercontent.com/9xcm5vesaQYE...</td>\n",
              "    </tr>\n",
              "  </tbody>\n",
              "</table>\n",
              "</div>\n",
              "      <button class=\"colab-df-convert\" onclick=\"convertToInteractive('df-e04ed81e-c896-4ba2-97c4-cc47a7098393')\"\n",
              "              title=\"Convert this dataframe to an interactive table.\"\n",
              "              style=\"display:none;\">\n",
              "        \n",
              "  <svg xmlns=\"http://www.w3.org/2000/svg\" height=\"24px\"viewBox=\"0 0 24 24\"\n",
              "       width=\"24px\">\n",
              "    <path d=\"M0 0h24v24H0V0z\" fill=\"none\"/>\n",
              "    <path d=\"M18.56 5.44l.94 2.06.94-2.06 2.06-.94-2.06-.94-.94-2.06-.94 2.06-2.06.94zm-11 1L8.5 8.5l.94-2.06 2.06-.94-2.06-.94L8.5 2.5l-.94 2.06-2.06.94zm10 10l.94 2.06.94-2.06 2.06-.94-2.06-.94-.94-2.06-.94 2.06-2.06.94z\"/><path d=\"M17.41 7.96l-1.37-1.37c-.4-.4-.92-.59-1.43-.59-.52 0-1.04.2-1.43.59L10.3 9.45l-7.72 7.72c-.78.78-.78 2.05 0 2.83L4 21.41c.39.39.9.59 1.41.59.51 0 1.02-.2 1.41-.59l7.78-7.78 2.81-2.81c.8-.78.8-2.07 0-2.86zM5.41 20L4 18.59l7.72-7.72 1.47 1.35L5.41 20z\"/>\n",
              "  </svg>\n",
              "      </button>\n",
              "      \n",
              "  <style>\n",
              "    .colab-df-container {\n",
              "      display:flex;\n",
              "      flex-wrap:wrap;\n",
              "      gap: 12px;\n",
              "    }\n",
              "\n",
              "    .colab-df-convert {\n",
              "      background-color: #E8F0FE;\n",
              "      border: none;\n",
              "      border-radius: 50%;\n",
              "      cursor: pointer;\n",
              "      display: none;\n",
              "      fill: #1967D2;\n",
              "      height: 32px;\n",
              "      padding: 0 0 0 0;\n",
              "      width: 32px;\n",
              "    }\n",
              "\n",
              "    .colab-df-convert:hover {\n",
              "      background-color: #E2EBFA;\n",
              "      box-shadow: 0px 1px 2px rgba(60, 64, 67, 0.3), 0px 1px 3px 1px rgba(60, 64, 67, 0.15);\n",
              "      fill: #174EA6;\n",
              "    }\n",
              "\n",
              "    [theme=dark] .colab-df-convert {\n",
              "      background-color: #3B4455;\n",
              "      fill: #D2E3FC;\n",
              "    }\n",
              "\n",
              "    [theme=dark] .colab-df-convert:hover {\n",
              "      background-color: #434B5C;\n",
              "      box-shadow: 0px 1px 3px 1px rgba(0, 0, 0, 0.15);\n",
              "      filter: drop-shadow(0px 1px 2px rgba(0, 0, 0, 0.3));\n",
              "      fill: #FFFFFF;\n",
              "    }\n",
              "  </style>\n",
              "\n",
              "      <script>\n",
              "        const buttonEl =\n",
              "          document.querySelector('#df-e04ed81e-c896-4ba2-97c4-cc47a7098393 button.colab-df-convert');\n",
              "        buttonEl.style.display =\n",
              "          google.colab.kernel.accessAllowed ? 'block' : 'none';\n",
              "\n",
              "        async function convertToInteractive(key) {\n",
              "          const element = document.querySelector('#df-e04ed81e-c896-4ba2-97c4-cc47a7098393');\n",
              "          const dataTable =\n",
              "            await google.colab.kernel.invokeFunction('convertToInteractive',\n",
              "                                                     [key], {});\n",
              "          if (!dataTable) return;\n",
              "\n",
              "          const docLinkHtml = 'Like what you see? Visit the ' +\n",
              "            '<a target=\"_blank\" href=https://colab.research.google.com/notebooks/data_table.ipynb>data table notebook</a>'\n",
              "            + ' to learn more about interactive tables.';\n",
              "          element.innerHTML = '';\n",
              "          dataTable['output_type'] = 'display_data';\n",
              "          await google.colab.output.renderOutput(dataTable, element);\n",
              "          const docLink = document.createElement('div');\n",
              "          docLink.innerHTML = docLinkHtml;\n",
              "          element.appendChild(docLink);\n",
              "        }\n",
              "      </script>\n",
              "    </div>\n",
              "  </div>\n",
              "  "
            ],
            "text/plain": [
              "                                              nft_id  ...                                          image_url\n",
              "0  2541585283815458503018281017495372409420154545...  ...  https://lh3.googleusercontent.com/DwknciiKsguS...\n",
              "1  4460258260744616717349398633449740654585409544...  ...  https://lh3.googleusercontent.com/yzniUTh85SYY...\n",
              "2  1143238369460653929904223751867794581426030911...  ...  https://lh3.googleusercontent.com/2xDLW3Nrrt8u...\n",
              "3  5742295951199733757787373026863398866922647154...  ...  https://lh3.googleusercontent.com/Y4lDr3FzA7xm...\n",
              "4  1006254684714400059060824656421626037946389019...  ...  https://lh3.googleusercontent.com/9xcm5vesaQYE...\n",
              "\n",
              "[5 rows x 23 columns]"
            ]
          },
          "execution_count": 36,
          "metadata": {},
          "output_type": "execute_result"
        }
      ],
      "source": [
        "nft_assets_df.head()"
      ]
    },
    {
      "cell_type": "code",
      "execution_count": null,
      "metadata": {
        "colab": {
          "base_uri": "https://localhost:8080/"
        },
        "id": "1xnXs4tYxO-B",
        "outputId": "93b5b51e-ae7c-4087-a458-1a558ca19b08"
      },
      "outputs": [
        {
          "data": {
            "text/plain": [
              "nft_id                            1621982002792054346616551201396104294198323409...\n",
              "name                                                                    Starcatcher\n",
              "asset_description                                                       Starcatcher\n",
              "asset_contract_address                   0x495f947276749ce646f68ac8c248420045cb7b5e\n",
              "collection_name                                                     StarcatchersNFT\n",
              "collection_description                          https://twitter.com/StarcatchersNFT\n",
              "collection_slug                                                             ergzhha\n",
              "collection_verification                                                       False\n",
              "creator_username                                               StarcatchersNFT-Club\n",
              "creator_address                          0x23dc17c21b26af343ca4c846ada528be4d09040c\n",
              "creator_profile_img_url           https://storage.googleapis.com/opensea-static/...\n",
              "owner_username                                                          NullAddress\n",
              "owner_address                            0x0000000000000000000000000000000000000000\n",
              "owner_profile_img_url             https://storage.googleapis.com/opensea-static/...\n",
              "traits_string                                                                   NaN\n",
              "total_rarity                                                                    0.0\n",
              "num_sales                                                                         0\n",
              "last_sale_timestamp                                                             NaN\n",
              "last_sale_total_price                                                           NaN\n",
              "last_sale_from_account_address                                                  NaN\n",
              "top_bid                                                                         NaN\n",
              "open_sea_link                     https://opensea.io/assets/0x495f947276749ce646...\n",
              "image_url                         https://lh3.googleusercontent.com/3jliKTCPpzji...\n",
              "Name: 10099, dtype: object"
            ]
          },
          "execution_count": 37,
          "metadata": {},
          "output_type": "execute_result"
        }
      ],
      "source": [
        "nft_assets_df.iloc[-1]"
      ]
    },
    {
      "cell_type": "markdown",
      "metadata": {
        "id": "J6npelfft3Oo"
      },
      "source": [
        "# Analyze NFT Assets Data"
      ]
    },
    {
      "cell_type": "code",
      "execution_count": null,
      "metadata": {
        "colab": {
          "base_uri": "https://localhost:8080/"
        },
        "id": "B0qRRp8ibNKT",
        "outputId": "a4d40dc0-5325-4278-d7d5-bacd8a433c10"
      },
      "outputs": [
        {
          "data": {
            "text/plain": [
              "1"
            ]
          },
          "execution_count": 8,
          "metadata": {},
          "output_type": "execute_result"
        }
      ],
      "source": [
        "# number of unique names\n",
        "len(nft_assets_df['creator_address'].unique())\n",
        "\n",
        "# nft_assets_df['traits'][3]\n",
        "# nft_assets_df['traits'][0]"
      ]
    },
    {
      "cell_type": "markdown",
      "metadata": {
        "id": "9TyGUUHon8S1"
      },
      "source": [
        "Inspect data columns with no values"
      ]
    },
    {
      "cell_type": "code",
      "execution_count": null,
      "metadata": {
        "colab": {
          "base_uri": "https://localhost:8080/",
          "height": 483
        },
        "id": "hQapg6wynpUv",
        "outputId": "27435b9c-d6fa-4e74-8f56-bd4a9550a368"
      },
      "outputs": [
        {
          "data": {
            "image/png": "[encoded data removed]",
            "text/plain": [
              "<Figure size 576x576 with 1 Axes>"
            ]
          },
          "metadata": {},
          "output_type": "display_data"
        }
      ],
      "source": [
        "data = nft_assets_df\n",
        "\n",
        "data_null = data.isna().sum()\n",
        "plt.figure(figsize=(8,8))\n",
        "data_null[data_null!=0].plot(kind='barh');"
      ]
    },
    {
      "cell_type": "code",
      "execution_count": null,
      "metadata": {
        "colab": {
          "base_uri": "https://localhost:8080/"
        },
        "id": "SDnfSYayhwpb",
        "outputId": "464313ad-c28b-4006-9886-e923786290bc"
      },
      "outputs": [
        {
          "name": "stdout",
          "output_type": "stream",
          "text": [
            "(10000, 21)\n"
          ]
        }
      ],
      "source": [
        "print(nft_assets_df.shape)"
      ]
    },
    {
      "cell_type": "code",
      "execution_count": null,
      "metadata": {
        "colab": {
          "base_uri": "https://localhost:8080/"
        },
        "id": "Qi-HxAYFcBnW",
        "outputId": "5cf4bd3d-cd86-45e3-dce4-29f0fdd31014"
      },
      "outputs": [
        {
          "name": "stdout",
          "output_type": "stream",
          "text": [
            "{'asset': {'decimals': 0, 'token_id': '9974'}, 'asset_bundle': None, 'event_type': 'successful', 'event_timestamp': '2021-05-09T16:46:27', 'auction_type': None, 'total_price': '500000000000000000', 'payment_token': {'id': 1, 'symbol': 'ETH', 'address': '0x0000000000000000000000000000000000000000', 'image_url': 'https://storage.opensea.io/files/6f8e2979d428180222796ff4a33ab929.svg', 'name': 'Ether', 'decimals': 18, 'eth_price': '1.000000000000000', 'usd_price': '3065.059999999999945000'}, 'transaction': {'block_hash': '0xb2554b4c899a3ec7b7271d1ea84a6028eaacb0e1deed67a26048b0c0f304af27', 'block_number': '12401311', 'from_account': {'user': {'username': 'mo31985'}, 'profile_img_url': 'https://storage.googleapis.com/opensea-static/opensea-profile/15.png', 'address': '0x994cf01f34c51426bcb12bd30ff7079e280e1140', 'config': ''}, 'id': 111986825, 'timestamp': '2021-05-09T16:46:27', 'to_account': {'user': {'username': 'OpenSea-Orders'}, 'profile_img_url': 'https://storage.googleapis.com/opensea-static/opensea-profile/22.png', 'address': '0x7be8076f4ea4a4ad08075c2508e481d6c946d12b', 'config': 'verified'}, 'transaction_hash': '0x04f4668dfa8e737c0b345c2e412899ec1e947113cacedbe49b4ea0b4b395068a', 'transaction_index': '216'}, 'created_date': '2021-05-09T16:46:57.354471', 'quantity': '1'}\n"
          ]
        }
      ],
      "source": [
        "txt = json.dumps(nft_assets_df.iloc[0]['last_sale'])\n",
        "\n",
        "x = txt.strip(\"\\\"\")\n",
        "\n",
        "print(x)"
      ]
    },
    {
      "cell_type": "code",
      "execution_count": null,
      "metadata": {
        "colab": {
          "base_uri": "https://localhost:8080/"
        },
        "id": "I4SNkOtbJb4W",
        "outputId": "e7937c16-d76b-40cf-b46a-c8e007d77045"
      },
      "outputs": [
        {
          "data": {
            "text/plain": [
              "9999    NaN\n",
              "Name: last_sale, dtype: object"
            ]
          },
          "execution_count": 9,
          "metadata": {},
          "output_type": "execute_result"
        }
      ],
      "source": [
        "nft_assets_df.loc[nft_assets_df['nft_id'] == 0]"
      ]
    },
    {
      "cell_type": "code",
      "execution_count": null,
      "metadata": {
        "colab": {
          "base_uri": "https://localhost:8080/",
          "height": 363
        },
        "id": "y785-MOMuzQ1",
        "outputId": "3fb147e6-7197-41bd-a323-94cc7190aff7"
      },
      "outputs": [
        {
          "data": {
            "text/html": [
              "\n",
              "  <div id=\"df-42f8debc-8d8f-434a-97c0-8e8544b26ced\">\n",
              "    <div class=\"colab-df-container\">\n",
              "      <div>\n",
              "<style scoped>\n",
              "    .dataframe tbody tr th:only-of-type {\n",
              "        vertical-align: middle;\n",
              "    }\n",
              "\n",
              "    .dataframe tbody tr th {\n",
              "        vertical-align: top;\n",
              "    }\n",
              "\n",
              "    .dataframe thead th {\n",
              "        text-align: right;\n",
              "    }\n",
              "</style>\n",
              "<table border=\"1\" class=\"dataframe\">\n",
              "  <thead>\n",
              "    <tr style=\"text-align: right;\">\n",
              "      <th></th>\n",
              "      <th>nft_id</th>\n",
              "      <th>name</th>\n",
              "      <th>asset_description</th>\n",
              "      <th>num_sales</th>\n",
              "      <th>top_bid</th>\n",
              "    </tr>\n",
              "  </thead>\n",
              "  <tbody>\n",
              "    <tr>\n",
              "      <th>count</th>\n",
              "      <td>10000.00000</td>\n",
              "      <td>0.0</td>\n",
              "      <td>0.0</td>\n",
              "      <td>10000.000000</td>\n",
              "      <td>0.0</td>\n",
              "    </tr>\n",
              "    <tr>\n",
              "      <th>mean</th>\n",
              "      <td>4999.50000</td>\n",
              "      <td>NaN</td>\n",
              "      <td>NaN</td>\n",
              "      <td>2.442800</td>\n",
              "      <td>NaN</td>\n",
              "    </tr>\n",
              "    <tr>\n",
              "      <th>std</th>\n",
              "      <td>2886.89568</td>\n",
              "      <td>NaN</td>\n",
              "      <td>NaN</td>\n",
              "      <td>2.039349</td>\n",
              "      <td>NaN</td>\n",
              "    </tr>\n",
              "    <tr>\n",
              "      <th>min</th>\n",
              "      <td>0.00000</td>\n",
              "      <td>NaN</td>\n",
              "      <td>NaN</td>\n",
              "      <td>0.000000</td>\n",
              "      <td>NaN</td>\n",
              "    </tr>\n",
              "    <tr>\n",
              "      <th>10%</th>\n",
              "      <td>999.90000</td>\n",
              "      <td>NaN</td>\n",
              "      <td>NaN</td>\n",
              "      <td>0.000000</td>\n",
              "      <td>NaN</td>\n",
              "    </tr>\n",
              "    <tr>\n",
              "      <th>25%</th>\n",
              "      <td>2499.75000</td>\n",
              "      <td>NaN</td>\n",
              "      <td>NaN</td>\n",
              "      <td>1.000000</td>\n",
              "      <td>NaN</td>\n",
              "    </tr>\n",
              "    <tr>\n",
              "      <th>50%</th>\n",
              "      <td>4999.50000</td>\n",
              "      <td>NaN</td>\n",
              "      <td>NaN</td>\n",
              "      <td>2.000000</td>\n",
              "      <td>NaN</td>\n",
              "    </tr>\n",
              "    <tr>\n",
              "      <th>75%</th>\n",
              "      <td>7499.25000</td>\n",
              "      <td>NaN</td>\n",
              "      <td>NaN</td>\n",
              "      <td>3.000000</td>\n",
              "      <td>NaN</td>\n",
              "    </tr>\n",
              "    <tr>\n",
              "      <th>90%</th>\n",
              "      <td>8999.10000</td>\n",
              "      <td>NaN</td>\n",
              "      <td>NaN</td>\n",
              "      <td>5.000000</td>\n",
              "      <td>NaN</td>\n",
              "    </tr>\n",
              "    <tr>\n",
              "      <th>max</th>\n",
              "      <td>9999.00000</td>\n",
              "      <td>NaN</td>\n",
              "      <td>NaN</td>\n",
              "      <td>15.000000</td>\n",
              "      <td>NaN</td>\n",
              "    </tr>\n",
              "  </tbody>\n",
              "</table>\n",
              "</div>\n",
              "      <button class=\"colab-df-convert\" onclick=\"convertToInteractive('df-42f8debc-8d8f-434a-97c0-8e8544b26ced')\"\n",
              "              title=\"Convert this dataframe to an interactive table.\"\n",
              "              style=\"display:none;\">\n",
              "        \n",
              "  <svg xmlns=\"http://www.w3.org/2000/svg\" height=\"24px\"viewBox=\"0 0 24 24\"\n",
              "       width=\"24px\">\n",
              "    <path d=\"M0 0h24v24H0V0z\" fill=\"none\"/>\n",
              "    <path d=\"M18.56 5.44l.94 2.06.94-2.06 2.06-.94-2.06-.94-.94-2.06-.94 2.06-2.06.94zm-11 1L8.5 8.5l.94-2.06 2.06-.94-2.06-.94L8.5 2.5l-.94 2.06-2.06.94zm10 10l.94 2.06.94-2.06 2.06-.94-2.06-.94-.94-2.06-.94 2.06-2.06.94z\"/><path d=\"M17.41 7.96l-1.37-1.37c-.4-.4-.92-.59-1.43-.59-.52 0-1.04.2-1.43.59L10.3 9.45l-7.72 7.72c-.78.78-.78 2.05 0 2.83L4 21.41c.39.39.9.59 1.41.59.51 0 1.02-.2 1.41-.59l7.78-7.78 2.81-2.81c.8-.78.8-2.07 0-2.86zM5.41 20L4 18.59l7.72-7.72 1.47 1.35L5.41 20z\"/>\n",
              "  </svg>\n",
              "      </button>\n",
              "      \n",
              "  <style>\n",
              "    .colab-df-container {\n",
              "      display:flex;\n",
              "      flex-wrap:wrap;\n",
              "      gap: 12px;\n",
              "    }\n",
              "\n",
              "    .colab-df-convert {\n",
              "      background-color: #E8F0FE;\n",
              "      border: none;\n",
              "      border-radius: 50%;\n",
              "      cursor: pointer;\n",
              "      display: none;\n",
              "      fill: #1967D2;\n",
              "      height: 32px;\n",
              "      padding: 0 0 0 0;\n",
              "      width: 32px;\n",
              "    }\n",
              "\n",
              "    .colab-df-convert:hover {\n",
              "      background-color: #E2EBFA;\n",
              "      box-shadow: 0px 1px 2px rgba(60, 64, 67, 0.3), 0px 1px 3px 1px rgba(60, 64, 67, 0.15);\n",
              "      fill: #174EA6;\n",
              "    }\n",
              "\n",
              "    [theme=dark] .colab-df-convert {\n",
              "      background-color: #3B4455;\n",
              "      fill: #D2E3FC;\n",
              "    }\n",
              "\n",
              "    [theme=dark] .colab-df-convert:hover {\n",
              "      background-color: #434B5C;\n",
              "      box-shadow: 0px 1px 3px 1px rgba(0, 0, 0, 0.15);\n",
              "      filter: drop-shadow(0px 1px 2px rgba(0, 0, 0, 0.3));\n",
              "      fill: #FFFFFF;\n",
              "    }\n",
              "  </style>\n",
              "\n",
              "      <script>\n",
              "        const buttonEl =\n",
              "          document.querySelector('#df-42f8debc-8d8f-434a-97c0-8e8544b26ced button.colab-df-convert');\n",
              "        buttonEl.style.display =\n",
              "          google.colab.kernel.accessAllowed ? 'block' : 'none';\n",
              "\n",
              "        async function convertToInteractive(key) {\n",
              "          const element = document.querySelector('#df-42f8debc-8d8f-434a-97c0-8e8544b26ced');\n",
              "          const dataTable =\n",
              "            await google.colab.kernel.invokeFunction('convertToInteractive',\n",
              "                                                     [key], {});\n",
              "          if (!dataTable) return;\n",
              "\n",
              "          const docLinkHtml = 'Like what you see? Visit the ' +\n",
              "            '<a target=\"_blank\" href=https://colab.research.google.com/notebooks/data_table.ipynb>data table notebook</a>'\n",
              "            + ' to learn more about interactive tables.';\n",
              "          element.innerHTML = '';\n",
              "          dataTable['output_type'] = 'display_data';\n",
              "          await google.colab.output.renderOutput(dataTable, element);\n",
              "          const docLink = document.createElement('div');\n",
              "          docLink.innerHTML = docLinkHtml;\n",
              "          element.appendChild(docLink);\n",
              "        }\n",
              "      </script>\n",
              "    </div>\n",
              "  </div>\n",
              "  "
            ],
            "text/plain": [
              "            nft_id  name  asset_description     num_sales  top_bid\n",
              "count  10000.00000   0.0                0.0  10000.000000      0.0\n",
              "mean    4999.50000   NaN                NaN      2.442800      NaN\n",
              "std     2886.89568   NaN                NaN      2.039349      NaN\n",
              "min        0.00000   NaN                NaN      0.000000      NaN\n",
              "10%      999.90000   NaN                NaN      0.000000      NaN\n",
              "25%     2499.75000   NaN                NaN      1.000000      NaN\n",
              "50%     4999.50000   NaN                NaN      2.000000      NaN\n",
              "75%     7499.25000   NaN                NaN      3.000000      NaN\n",
              "90%     8999.10000   NaN                NaN      5.000000      NaN\n",
              "max     9999.00000   NaN                NaN     15.000000      NaN"
            ]
          },
          "execution_count": 58,
          "metadata": {},
          "output_type": "execute_result"
        }
      ],
      "source": [
        "data.describe(percentiles=[0.1,0.25,0.5,0.75,0.9])"
      ]
    },
    {
      "cell_type": "code",
      "execution_count": null,
      "metadata": {
        "id": "Ywf1z5SRQRG9"
      },
      "outputs": [],
      "source": [
        "# data_new_stripped = data.drop([ 'name', 'asset_description', 'top_bid'],axis=1)"
      ]
    },
    {
      "cell_type": "code",
      "execution_count": null,
      "metadata": {
        "id": "v5MsNNp_SR7e"
      },
      "outputs": [],
      "source": [
        "# import seaborn as sns\n",
        "\n",
        "# plt.figure(figsize=(25,20))\n",
        "# sns.set(font_scale=1)\n",
        "# sns.heatmap(data.corr(),annot=True);"
      ]
    },
    {
      "cell_type": "markdown",
      "metadata": {
        "id": "uIgf4X04hqDj"
      },
      "source": [
        "## Cluster NFTs based on Trait Rarity"
      ]
    },
    {
      "cell_type": "markdown",
      "metadata": {
        "id": "SphBgqecq6GT"
      },
      "source": [
        "calculate rarity of each NFT and have a separate column for this in the dataframe\n",
        "\n",
        "*Rarity Score for a Trait Value = 1 / ([Number of Items with that Trait Value] / [Total Number of Items in Collection])*"
      ]
    },
    {
      "cell_type": "markdown",
      "metadata": {
        "id": "WlghlJX0c4xu"
      },
      "source": [
        "### Failed attempt at extracting json saved in csv"
      ]
    },
    {
      "cell_type": "code",
      "execution_count": null,
      "metadata": {
        "colab": {
          "base_uri": "https://localhost:8080/"
        },
        "id": "GTXedYI1djbM",
        "outputId": "5354a3e2-5d96-470d-e73d-43f0c0ac7fd5"
      },
      "outputs": [
        {
          "name": "stderr",
          "output_type": "stream",
          "text": [
            "IOPub data rate exceeded.\n",
            "The notebook server will temporarily stop sending output\n",
            "to the client in order to avoid crashing it.\n",
            "To change this limit, set the config variable\n",
            "`--NotebookApp.iopub_data_rate_limit`.\n",
            "\n",
            "Current values:\n",
            "NotebookApp.iopub_data_rate_limit=1000000.0 (bytes/sec)\n",
            "NotebookApp.rate_limit_window=3.0 (secs)\n",
            "\n"
          ]
        }
      ],
      "source": [
        "result = data.iloc[0:].to_json()\n",
        "parsed = json.loads(result)\n",
        "json_string = json.dumps(parsed, indent=4)  \n",
        "\n",
        "print(json_string)"
      ]
    },
    {
      "cell_type": "code",
      "execution_count": null,
      "metadata": {
        "colab": {
          "base_uri": "https://localhost:8080/",
          "height": 122
        },
        "id": "vyUA-jrXejP1",
        "outputId": "dcd634a1-3958-47b6-945e-847c940c8228"
      },
      "outputs": [
        {
          "data": {
            "application/vnd.google.colaboratory.intrinsic+json": {
              "type": "string"
            },
            "text/plain": [
              "'[{\\'trait_type\\': \\'Eyes\\', \\'value\\': \\'Eyepatch\\', \\'display_type\\': None, \\'max_value\\': None, \\'trait_count\\': 333, \\'order\\': None}, {\\'trait_type\\': \\'Hat\\', \\'value\\': \"Seaman\\'s Hat\", \\'display_type\\': None, \\'max_value\\': None, \\'trait_count\\': 420, \\'order\\': None}, {\\'trait_type\\': \\'Clothes\\', \\'value\\': \\'Rainbow Suspenders\\', \\'display_type\\': None, \\'max_value\\': None, \\'trait_count\\': 135, \\'order\\': None}, {\\'trait_type\\': \\'Background\\', \\'value\\': \\'Aquamarine\\', \\'display_type\\': None, \\'max_value\\': None, \\'trait_count\\': 1266, \\'order\\': None}, {\\'trait_type\\': \\'Fur\\', \\'value\\': \\'Dark Brown\\', \\'display_type\\': None, \\'max_value\\': None, \\'trait_count\\': 1352, \\'order\\': None}, {\\'trait_type\\': \\'Earring\\', \\'value\\': \\'Silver Hoop\\', \\'display_type\\': None, \\'max_value\\': None, \\'trait_count\\': 882, \\'order\\': None}, {\\'trait_type\\': \\'Mouth\\', \\'value\\': \\'Tongue Out\\', \\'display_type\\': None, \\'max_value\\': None, \\'trait_count\\': 202, \\'order\\': None}]'"
            ]
          },
          "execution_count": 89,
          "metadata": {},
          "output_type": "execute_result"
        }
      ],
      "source": [
        "parsed[0]['traits']"
      ]
    },
    {
      "cell_type": "markdown",
      "metadata": {
        "id": "KEucxNfCbpFc"
      },
      "source": [
        "once saved in a CSV column/ pandas column, the array converts into a string. So, nothing will work after that."
      ]
    },
    {
      "cell_type": "code",
      "execution_count": null,
      "metadata": {
        "colab": {
          "base_uri": "https://localhost:8080/"
        },
        "id": "Y3XbCFsDVEba",
        "outputId": "8c463852-29d8-4e54-ffa0-61bb2fd1e4a7"
      },
      "outputs": [
        {
          "name": "stdout",
          "output_type": "stream",
          "text": [
            "[{'trait_type': 'Eyes', 'value': 'Eyepatch', 'display_type': None, 'max_value': None, 'trait_count': 333, 'order': None}, {'trait_type': 'Hat', 'value': \"Seaman's Hat\", 'display_type': None, 'max_value': None, 'trait_count': 420, 'order': None}, {'trait_type': 'Clothes', 'value': 'Rainbow Suspenders', 'display_type': None, 'max_value': None, 'trait_count': 135, 'order': None}, {'trait_type': 'Background', 'value': 'Aquamarine', 'display_type': None, 'max_value': None, 'trait_count': 1266, 'order': None}, {'trait_type': 'Fur', 'value': 'Dark Brown', 'display_type': None, 'max_value': None, 'trait_count': 1352, 'order': None}, {'trait_type': 'Earring', 'value': 'Silver Hoop', 'display_type': None, 'max_value': None, 'trait_count': 882, 'order': None}, {'trait_type': 'Mouth', 'value': 'Tongue Out', 'display_type': None, 'max_value': None, 'trait_count': 202, 'order': None}]\n",
            "[\n",
            "\"[\"\n"
          ]
        }
      ],
      "source": [
        "# loop through data frame\n",
        "# for index, row in data.iterrows():\n",
        "#   traits = row['traits']\n",
        "#   print(traits)\n",
        "#   # traits_string = \"{'traits':\" + traits + \"}\"\n",
        "#   # traits_string = '''\n",
        "#   #                 {\"traits\":{traits}}\n",
        "#   #                 '''\n",
        "\n",
        "#   # traits_json = json.loads(traits_string)\n",
        "#   # parsed = json.loads(traits)\n",
        "#   # traits_string = json.dumps(traits, indent=4)  \n",
        "\n",
        "#   # print(traits_string)\n",
        "#   # break;\n",
        "\n",
        "#   # traits_json = json.loads(traits)\n",
        "\n",
        "#   for trait in traits:\n",
        "#     print(trait)\n",
        "#     trait_string = json.dumps(trait, indent=4)  \n",
        "#     print(trait_string)\n",
        "#     break;\n",
        "#   break\n",
        "\n",
        "    # print(row['nft_id'], row['traits'])\n",
        "# calculate rarity for each trait\n",
        "\n",
        "# add all rarity counts and calculate total rarity for each NFT\n"
      ]
    },
    {
      "cell_type": "code",
      "execution_count": null,
      "metadata": {
        "colab": {
          "base_uri": "https://localhost:8080/"
        },
        "id": "6Kdgr-1hca6O",
        "outputId": "a6653fd7-d314-40e4-9a3e-ba789b812747"
      },
      "outputs": [
        {
          "name": "stdout",
          "output_type": "stream",
          "text": [
            "                                                                                                                                                                                                                                                                                                                                                                                                                                                                                                                                                                                                                                                                                                                                                                                                                                                                                                                                                                                                                                                                                                                                                                                                                                                                                                                                                                                                                                                                                                                                                                                                                                                                                                                                                                                                                                                                                                                                                                                                                                                                                                                                                                                                                                                                                                                                                                                                                                                                                                                                                                                                                                                                                                                                                                                            nft_id\\tname\\tasset_description\\tasset_contract_address\\tcollection_name\\tcollection_description\\tcollection_slug\\tcollection_verification\\tcreator_username\\tcreator_address\\tcreator_profile_img_url\\towner_username\\towner_address\\towner_profile_img_url\\ttraits\\tnum_sales\\tlast_sale\\ttop_bid\\timage_url\n",
            "9974\\t\\t\\t0xbc4ca0eda7647a8ab7c2061c2e118a18a93... 000 unique Bored Ape NFTs— unique digital colle...  and grants access to members-only benefits  the first of which is access to THE BATHROOM  a collaborative graffiti board. Future areas a...  'value': 'Eyepatch'                'display_type': None  'max_value': None  'trait_count': 333   'order': None}  {'trait_type': 'Hat'         'value': \"\"Seaman's Hat\"\"      'display_type': None  'max_value': None  'trait_count': 420   'order': None}  {'trait_type': 'Clothes'     'value': 'Rainbow Suspenders'  'display_type': None  'max_value': None  'trait_count': 135   'order': None}  {'trait_type': 'Background'  'value': 'Aquamarine'     'display_type': None  'max_value': None  'trait_count': 1266  'order': None}  {'trait_type': 'Fur'         'value': 'Dark Brown'           'display_type': None  'max_value': None  'trait_count': 1352  'order': None}                                     {'trait_type': 'Earring'     'value': 'Silver Hoop'       'display_type': None        'max_value': None                         'trait_count': 882    'order': None}                                     {'trait_type': 'Mouth'     'value': 'Tongue Out'  'display_type': None                               'max_value': None                                  'trait_count': 202    'order': None}]\"\\t2\\t{'asset': {'token_id': '9...  'decimals': 0}                    'asset_bundle': None                     'event_type': 'successful'                         'event_timestamp': '2021-05-09T16:46:27'           'auction_type': None                               'total_price': '500000000000000000'                'payment_token': {'id': 1                          'symbol': 'ETH'                          'address': '0x00000000000000000000000000000000...  'image_url': 'https://storage.opensea.io/files...  'name': 'Ether'                                    'decimals': 18                                     'eth_price': '1.000000000000000'                   'usd_price': '3020.360000000000127000'}  'transaction': {'block_hash': '0xb2554b4c899a3...  'block_number': '12401311'          'from_account': {'user': {'username': 'mo31985'}   'profile_img_url': 'https://storage.googleapis...  'address': '0x994cf01f34c51426bcb12bd30ff7079e...  'config': ''}          'id': 111986825                                    'timestamp': '2021-05-09T16:46:27'  'to_account': {'user': {'username': 'OpenSea-O...  'profile_img_url': 'https://storage.googleapis...  'address': '0x7be8076f4ea4a4ad08075c2508e481d6...  'config': 'verified'}  'transaction_hash': '0x04f4668dfa8e737c0b345c2...  'transaction_index': '216'}  'created_date': '2021-05-09T16:46:57.354471'   'quantity': '1'}\\t\\thttps://lh3.googleusercon...                                                                                                                                                                                                                                                            \n",
            "9973\\t\\t\\t0xbc4ca0eda7647a8ab7c2061c2e118a18a93... 000 unique Bored Ape NFTs— unique digital colle...  and grants access to members-only benefits  the first of which is access to THE BATHROOM  a collaborative graffiti board. Future areas a...  'value': 'Dmt'                     'display_type': None  'max_value': None  'trait_count': 215   'order': None}  {'trait_type': 'Hat'         'value': \"\"Girl's Hair Pink\"\"  'display_type': None  'max_value': None  'trait_count': 105   'order': None}  {'trait_type': 'Eyes'        'value': 'Robot'               'display_type': None  'max_value': None  'trait_count': 350   'order': None}  {'trait_type': 'Background'  'value': 'Yellow'         'display_type': None  'max_value': None  'trait_count': 1283  'order': None}  {'trait_type': 'Mouth'       'value': 'Bored'                'display_type': None  'max_value': None  'trait_count': 2272  'order': None}]\"\\t1\\t{'asset': {'token_id': '9...  'decimals': 0}               'asset_bundle': None         'event_type': 'successful'  'event_timestamp': '2021-05-01T16:24:22'  'auction_type': None  'total_price': '580000000000000000'                'payment_token': {'id': 1  'symbol': 'ETH'        'address': '0x00000000000000000000000000000000...  'image_url': 'https://storage.opensea.io/files...  'name': 'Ether'       'decimals': 18                                     'eth_price': '1.000000000000000'  'usd_price': '3020.360000000000127000'}  'transaction': {'block_hash': '0x0db0e57f0affb...  'block_number': '12349383'                         'from_account': {'user': {'username': 'acsquar...  'profile_img_url': 'https://storage.googleapis...  'address': '0x078ad2aa3b4527e4996d087906b2a3da...  'config': ''}                            'id': 108653034                                    'timestamp': '2021-05-01T16:24:22'                 'to_account': {'user': {'username': 'OpenSea-O...  'profile_img_url': 'https://storage.googleapis...  'address': '0x7be8076f4ea4a4ad08075c2508e481d6...  'config': 'verified'}                    'transaction_hash': '0xb0655f440a002fab70c6cd2...  'transaction_index': '187'}         'created_date': '2021-05-01T16:24:56.449530'       'quantity': '1'}\\t\\thttps://lh3.googleusercont... NaN                                                NaN                    NaN                                                NaN                                 NaN                                                NaN                                                NaN                                                NaN                    NaN                                                NaN                          NaN                                                                                          NaN                                                                                                                                                                                                                                                            \n",
            "9949\\t\\t\\t0xbc4ca0eda7647a8ab7c2061c2e118a18a93... 000 unique Bored Ape NFTs— unique digital colle...  and grants access to members-only benefits  the first of which is access to THE BATHROOM  a collaborative graffiti board. Future areas a...  'value': 'Grin Gold Grill'         'display_type': None  'max_value': None  'trait_count': 91    'order': None}  {'trait_type': 'Fur'         'value': 'Tan'                 'display_type': None  'max_value': None  'trait_count': 626   'order': None}  {'trait_type': 'Hat'         'value': \"\"Seaman's Hat\"\"      'display_type': None  'max_value': None  'trait_count': 420   'order': None}  {'trait_type': 'Eyes'        'value': '3d'             'display_type': None  'max_value': None  'trait_count': 487   'order': None}  {'trait_type': 'Clothes'     'value': 'Guayabera'            'display_type': None  'max_value': None  'trait_count': 232   'order': None}                                     {'trait_type': 'Background'  'value': 'Army Green'        'display_type': None        'max_value': None                         'trait_count': 1243   'order': None}]\"\\t7\\t{'asset': {'token_id': '9...  'decimals': 0}             'asset_bundle': None   'event_type': 'successful'                         'event_timestamp': '2021-11-21T10:04:02'           'auction_type': None  'total_price': '85800000000000000000'              'payment_token': {'id': 1         'symbol': 'ETH'                          'address': '0x00000000000000000000000000000000...  'image_url': 'https://storage.opensea.io/files...  'name': 'Ether'                                    'decimals': 18                                     'eth_price': '1.000000000000000'                   'usd_price': '3020.360000000000127000'}  'transaction': {'block_hash': '0xd5a5a9e99d746...  'block_number': '13657520'                         'from_account': {'user': None                      'profile_img_url': 'https://storage.googleapis...  'address': '0x91e1543bf18cc3c7a25e682f9c20cf8b...  'config': ''}                            'id': 205541245                                    'timestamp': '2021-11-21T10:04:02'  'to_account': {'user': {'username': 'OpenSea-O...  'profile_img_url': 'https://storage.googleapis...  'address': '0x7be8076f4ea4a4ad08075c2508e481d6...  'config': 'verified'}  'transaction_hash': '0xaa9d446cfcbc4efc6d27cff...  'transaction_index': '278'}         'created_date': '2021-11-21T10:05:12.118043'       'quantity': '1'}\\t\\thttps://lh3.googleusercont... NaN                                                NaN                    NaN                                                NaN                          NaN                                                                                          NaN                                                                                                                                                                                                                                                            \n",
            "9972\\t\\t\\t0xbc4ca0eda7647a8ab7c2061c2e118a18a93... 000 unique Bored Ape NFTs— unique digital colle...  and grants access to members-only benefits  the first of which is access to THE BATHROOM  a collaborative graffiti board. Future areas a...  'value': 'Hypnotized'              'display_type': None  'max_value': None  'trait_count': 220   'order': None}  {'trait_type': 'Mouth'       'value': 'Rage'                'display_type': None  'max_value': None  'trait_count': 266   'order': None}  {'trait_type': 'Background'  'value': 'Aquamarine'          'display_type': None  'max_value': None  'trait_count': 1266  'order': None}  {'trait_type': 'Fur'         'value': 'Brown'          'display_type': None  'max_value': None  'trait_count': 1370  'order': None}  {'trait_type': 'Hat'         'value': 'Bunny Ears'           'display_type': None  'max_value': None  'trait_count': 195   'order': None}]\\t1\\t{'asset': {'token_id': '9972'  'decimals': 0}               'asset_bundle': None         'event_type': 'successful'  'event_timestamp': '2021-05-01T11:03:09'  'auction_type': None  'total_price': '150000000000000000'                'payment_token': {'id': 1  'symbol': 'ETH'        'address': '0x00000000000000000000000000000000...  'image_url': 'https://storage.opensea.io/files...  'name': 'Ether'       'decimals': 18                                     'eth_price': '1.000000000000000'  'usd_price': '3020.360000000000127000'}  'transaction': {'block_hash': '0xfc8283d0c5881...  'block_number': '12347896'                         'from_account': {'user': {'username': 'sabet'}     'profile_img_url': 'https://storage.googleapis...  'address': '0x02eb75be1e72e988de64f0088d654d8e...  'config': 'verified'}                    'id': 108562132                                    'timestamp': '2021-05-01T11:03:09'                 'to_account': {'user': {'username': 'OpenSea-O...  'profile_img_url': 'https://storage.googleapis...  'address': '0x7be8076f4ea4a4ad08075c2508e481d6...  'config': 'verified'}                    'transaction_hash': '0x293d72b21991e7d5b09f957...  'transaction_index': '203'}         'created_date': '2021-05-01T11:03:27.036476'       'quantity': '1'}\\t\\thttps://lh3.googleusercont... NaN                                                NaN                    NaN                                                NaN                                 NaN                                                NaN                                                NaN                                                NaN                    NaN                                                NaN                          NaN                                                                                          NaN                                                                                                                                                                                                                                                            \n",
            "9948\\t\\t\\t0xbc4ca0eda7647a8ab7c2061c2e118a18a93... 000 unique Bored Ape NFTs— unique digital colle...  and grants access to members-only benefits  the first of which is access to THE BATHROOM  a collaborative graffiti board. Future areas a...  'value': \"\"Trippy Captain's Hat\"\"  'display_type': None  'max_value': None  'trait_count': 65    'order': None}  {'trait_type': 'Fur'         'value': 'Cream'               'display_type': None  'max_value': None  'trait_count': 636   'order': None}  {'trait_type': 'Eyes'        'value': 'Bloodshot'           'display_type': None  'max_value': None  'trait_count': 846   'order': None}  {'trait_type': 'Mouth'       'value': 'Tongue Out'     'display_type': None  'max_value': None  'trait_count': 202   'order': None}  {'trait_type': 'Background'  'value': 'Purple'               'display_type': None  'max_value': None  'trait_count': 1291  'order': None}                                     {'trait_type': 'Clothes'     'value': 'Navy Striped Tee'  'display_type': None        'max_value': None                         'trait_count': 334    'order': None}]\"\\t2\\t{'asset': {'token_id': '9...  'decimals': 0}             'asset_bundle': None   'event_type': 'successful'                         'event_timestamp': '2021-05-03T02:45:55'           'auction_type': None  'total_price': '1750000000000000000'               'payment_token': {'id': 1         'symbol': 'ETH'                          'address': '0x00000000000000000000000000000000...  'image_url': 'https://storage.opensea.io/files...  'name': 'Ether'                                    'decimals': 18                                     'eth_price': '1.000000000000000'                   'usd_price': '3020.360000000000127000'}  'transaction': {'block_hash': '0x4e1c2ab72e2ea...  'block_number': '12358620'                         'from_account': {'user': {'username': 'MAJE'}      'profile_img_url': 'https://storage.googleapis...  'address': '0xecba5f51925e6ccec26da38dcd7d5305...  'config': ''}                            'id': 109254894                                    'timestamp': '2021-05-03T02:45:55'  'to_account': {'user': {'username': 'OpenSea-O...  'profile_img_url': 'https://storage.googleapis...  'address': '0x7be8076f4ea4a4ad08075c2508e481d6...  'config': 'verified'}  'transaction_hash': '0xe8193a750316f15a81cc6f8...  'transaction_index': '29'}          'created_date': '2021-05-03T02:46:21.915618'       'quantity': '1'}\\t\\thttps://lh3.googleusercont... NaN                                                NaN                    NaN                                                NaN                          NaN                                                                                          NaN                                                                                                                                                                                                                                                            \n",
            "...                                                                                                                                                                                                                                                                                                                                                                                                                                                                                                                                                                                                                                                                                                                                                                                                                                                                                                                                                                                                                                                                                                                                                                                                                                                                                                                                                                                                                                                                                                                                                                                                                                                                                                                                                                                                                                                                                                                                                                                                                                                                                                                                                                                                                                                                                                                                                                                                                                                                                                                                                                                                                                                                                                                                                                                                                                        ...                                                                                                                                                                                                                                                            \n",
            "4\\t\\t\\t0xbc4ca0eda7647a8ab7c2061c2e118a18a936f1... 000 unique Bored Ape NFTs— unique digital colle...  and grants access to members-only benefits  the first of which is access to THE BATHROOM  a collaborative graffiti board. Future areas a...  'value': 'Phoneme L'               'display_type': None  'max_value': None  'trait_count': 241   'order': None}  {'trait_type': 'Eyes'        'value': 'Closed'              'display_type': None  'max_value': None  'trait_count': 710   'order': None}  {'trait_type': 'Hat'         'value': 'Party Hat 2'         'display_type': None  'max_value': None  'trait_count': 107   'order': None}  {'trait_type': 'Fur'         'value': 'Golden Brown'   'display_type': None  'max_value': None  'trait_count': 778   'order': None}  {'trait_type': 'Background'  'value': 'Blue'                 'display_type': None  'max_value': None  'trait_count': 1242  'order': None}                                     {'trait_type': 'Clothes'     'value': 'Navy Striped Tee'  'display_type': None        'max_value': None                         'trait_count': 334    'order': None}]\\t0\\t\\t\\thttps://lh3.googleuser... NaN                        NaN                    NaN                                                NaN                                                NaN                   NaN                                                NaN                               NaN                                      NaN                                                NaN                                                NaN                                                NaN                                                NaN                                                NaN                                      NaN                                                NaN                                                NaN                                                NaN                                                NaN                                                NaN                                      NaN                                                NaN                                 NaN                                                NaN                                                NaN                                                NaN                    NaN                                                NaN                                 NaN                                                NaN                                                NaN                                                NaN                    NaN                                                NaN                          NaN                                                                                          NaN                                                                                                                                                                                                                                                            \n",
            "3\\t\\t\\t0xbc4ca0eda7647a8ab7c2061c2e118a18a936f1... 000 unique Bored Ape NFTs— unique digital colle...  and grants access to members-only benefits  the first of which is access to THE BATHROOM  a collaborative graffiti board. Future areas a...  'value': 'Bored'                   'display_type': None  'max_value': None  'trait_count': 1714  'order': None}  {'trait_type': 'Mouth'       'value': 'Tongue Out'          'display_type': None  'max_value': None  'trait_count': 202   'order': None}  {'trait_type': 'Fur'         'value': 'Cheetah'             'display_type': None  'max_value': None  'trait_count': 406   'order': None}  {'trait_type': 'Clothes'     'value': 'Bone Necklace'  'display_type': None  'max_value': None  'trait_count': 203   'order': None}  {'trait_type': 'Background'  'value': 'Purple'               'display_type': None  'max_value': None  'trait_count': 1291  'order': None}]\\t0\\t\\t\\thttps://lh3.googleuser... NaN                          NaN                          NaN                         NaN                                       NaN                   NaN                                                NaN                        NaN                    NaN                                                NaN                                                NaN                   NaN                                                NaN                               NaN                                      NaN                                                NaN                                                NaN                                                NaN                                                NaN                                                NaN                                      NaN                                                NaN                                                NaN                                                NaN                                                NaN                                                NaN                                      NaN                                                NaN                                 NaN                                                NaN                                                NaN                                                NaN                    NaN                                                NaN                                 NaN                                                NaN                                                NaN                                                NaN                    NaN                                                NaN                          NaN                                                                                          NaN                                                                                                                                                                                                                                                            \n",
            "2\\t\\t\\t0xbc4ca0eda7647a8ab7c2061c2e118a18a936f1... 000 unique Bored Ape NFTs— unique digital colle...  and grants access to members-only benefits  the first of which is access to THE BATHROOM  a collaborative graffiti board. Future areas a...  'value': 'Aquamarine'              'display_type': None  'max_value': None  'trait_count': 1266  'order': None}  {'trait_type': 'Eyes'        'value': '3d'                  'display_type': None  'max_value': None  'trait_count': 487   'order': None}  {'trait_type': 'Mouth'       'value': 'Bored Cigarette'     'display_type': None  'max_value': None  'trait_count': 710   'order': None}  {'trait_type': 'Fur'         'value': 'Robot'          'display_type': None  'max_value': None  'trait_count': 265   'order': None}  {'trait_type': 'Hat'         'value': \"\"Sea Captain's Hat\"\"  'display_type': None  'max_value': None  'trait_count': 304   'order': None}]\"\\t0\\t\\t\\thttps://lh3.googleuse... NaN                          NaN                          NaN                         NaN                                       NaN                   NaN                                                NaN                        NaN                    NaN                                                NaN                                                NaN                   NaN                                                NaN                               NaN                                      NaN                                                NaN                                                NaN                                                NaN                                                NaN                                                NaN                                      NaN                                                NaN                                                NaN                                                NaN                                                NaN                                                NaN                                      NaN                                                NaN                                 NaN                                                NaN                                                NaN                                                NaN                    NaN                                                NaN                                 NaN                                                NaN                                                NaN                                                NaN                    NaN                                                NaN                          NaN                                                                                          NaN                                                                                                                                                                                                                                                            \n",
            "1\\t\\t\\t0xbc4ca0eda7647a8ab7c2061c2e118a18a936f1... 000 unique Bored Ape NFTs— unique digital colle...  and grants access to members-only benefits  the first of which is access to THE BATHROOM  a collaborative graffiti board. Future areas a...  'value': 'Grin'                    'display_type': None  'max_value': None  'trait_count': 713   'order': None}  {'trait_type': 'Background'  'value': 'Orange'              'display_type': None  'max_value': None  'trait_count': 1273  'order': None}  {'trait_type': 'Eyes'        'value': 'Blue Beams'          'display_type': None  'max_value': None  'trait_count': 49    'order': None}  {'trait_type': 'Fur'         'value': 'Robot'          'display_type': None  'max_value': None  'trait_count': 265   'order': None}  {'trait_type': 'Clothes'     'value': 'Vietnam Jacket'       'display_type': None  'max_value': None  'trait_count': 224   'order': None}]\\t0\\t\\t\\thttps://lh3.googleuser... NaN                          NaN                          NaN                         NaN                                       NaN                   NaN                                                NaN                        NaN                    NaN                                                NaN                                                NaN                   NaN                                                NaN                               NaN                                      NaN                                                NaN                                                NaN                                                NaN                                                NaN                                                NaN                                      NaN                                                NaN                                                NaN                                                NaN                                                NaN                                                NaN                                      NaN                                                NaN                                 NaN                                                NaN                                                NaN                                                NaN                    NaN                                                NaN                                 NaN                                                NaN                                                NaN                                                NaN                    NaN                                                NaN                          NaN                                                                                          NaN                                                                                                                                                                                                                                                            \n",
            "0\\t\\t\\t0xbc4ca0eda7647a8ab7c2061c2e118a18a936f1... 000 unique Bored Ape NFTs— unique digital colle...  and grants access to members-only benefits  the first of which is access to THE BATHROOM  a collaborative graffiti board. Future areas a...  'value': 'X Eyes'                  'display_type': None  'max_value': None  'trait_count': 243   'order': None}  {'trait_type': 'Mouth'       'value': 'Discomfort'          'display_type': None  'max_value': None  'trait_count': 208   'order': None}  {'trait_type': 'Clothes'     'value': 'Striped Tee'         'display_type': None  'max_value': None  'trait_count': 412   'order': None}  {'trait_type': 'Background'  'value': 'Orange'         'display_type': None  'max_value': None  'trait_count': 1273  'order': None}  {'trait_type': 'Earring'     'value': 'Silver Hoop'          'display_type': None  'max_value': None  'trait_count': 882   'order': None}                                     {'trait_type': 'Fur'         'value': 'Robot'             'display_type': None        'max_value': None                         'trait_count': 265    'order': None}]\\t0\\t\\t\\thttps://lh3.googleuser... NaN                        NaN                    NaN                                                NaN                                                NaN                   NaN                                                NaN                               NaN                                      NaN                                                NaN                                                NaN                                                NaN                                                NaN                                                NaN                                      NaN                                                NaN                                                NaN                                                NaN                                                NaN                                                NaN                                      NaN                                                NaN                                 NaN                                                NaN                                                NaN                                                NaN                    NaN                                                NaN                                 NaN                                                NaN                                                NaN                                                NaN                    NaN                                                NaN                          NaN                                                                                          NaN                                                                                                                                                                                                                                                            \n",
            "\n",
            "[10000 rows x 1 columns]\n"
          ]
        }
      ],
      "source": [
        "import ast\n",
        "import numpy as np\n",
        "def from_np_array(array_string):\n",
        "    array_string = ','.join(array_string.replace('[ ', '[').split())\n",
        "    return np.array(ast.literal_eval(array_string))\n",
        "\n",
        "\n",
        "df2 = pd.read_csv(assets_file_path, converters={'traits': from_np_array})\n",
        "print(df2)"
      ]
    },
    {
      "cell_type": "markdown",
      "metadata": {
        "id": "MVIiWcfW4x1D"
      },
      "source": [
        "## Clean Asset Data\n",
        "\n",
        "*   Remove NFTs that have no text that can be worked with at all (descriptions/ sensible names - nouns, non-stop words,etc.) - can have this check when parsing as well (check later)\n"
      ]
    },
    {
      "cell_type": "markdown",
      "metadata": {
        "id": "xj0MoYK8FlJ6"
      },
      "source": [
        "# Getting NFT sales transactions data\n",
        "\n",
        "The source code below collects all sale transactions data. The API has a limit of 50 items per call, and therefore we need to create a loop to collect all sale transactions data.\n",
        "\n",
        "https://docs.cryptosheets.com/providers/opensea/retrieving-events/"
      ]
    },
    {
      "cell_type": "markdown",
      "metadata": {
        "id": "0oVdZ4dM6wdZ"
      },
      "source": [
        "Assets and events will most likely match only in NFTs from collections - that have had a few transactions.\n",
        "\n",
        "Otherwise, events data can be used only to train a price prediction algorithm."
      ]
    },
    {
      "cell_type": "code",
      "execution_count": null,
      "metadata": {
        "id": "uMb81Q9t0w0j"
      },
      "outputs": [],
      "source": [
        "sales_file_path = \"/content/drive/MyDrive/Datasets/FYP/bayc-nft-sales\"\n",
        "# sales_file_path = \"/content/drive/MyDrive/Datasets/FYP/collected-nft-sales\""
      ]
    },
    {
      "cell_type": "code",
      "execution_count": null,
      "metadata": {
        "id": "WOtqXPGUXuDO"
      },
      "outputs": [],
      "source": [
        "requested_token_ids = []"
      ]
    },
    {
      "cell_type": "code",
      "execution_count": null,
      "metadata": {
        "id": "doPArhvAYB0C"
      },
      "outputs": [],
      "source": [
        "for index, row in nft_sales_df.iterrows():\n",
        "  if row['nft_id'] not in requested_token_ids:\n",
        "    requested_token_ids.append(row['nft_id'])\n",
        "    print(row['nft_id'])"
      ]
    },
    {
      "cell_type": "code",
      "execution_count": null,
      "metadata": {
        "id": "TiJzHuluYZ_A"
      },
      "outputs": [],
      "source": [
        "requested_token_ids"
      ]
    },
    {
      "cell_type": "markdown",
      "metadata": {
        "id": "8ou2KK33ujrY"
      },
      "source": [
        "request for events only if assets information has "
      ]
    },
    {
      "cell_type": "code",
      "execution_count": null,
      "metadata": {
        "id": "mQVPS0fsFlJ7"
      },
      "outputs": [],
      "source": [
        "url = \"https://api.opensea.io/api/v1/events\"\n",
        "\n",
        "#  fetch events for each nft in the list (0-9999 in BAYC)\n",
        "\n",
        "for i in range(0, 500):\n",
        "      offset= 50 * i\n",
        "\n",
        "    # if not (i in requested_token_ids):\n",
        "      \n",
        "      # query events for each nft asset\n",
        "      querystring = {\n",
        "          \"token_id\": i,\n",
        "          \"event_type\":\"successful\",\n",
        "          \"only_opensea\":\"true\",\n",
        "          \"offset\":0,\n",
        "          \"limit\":\"50\",\n",
        "          \"collection_slug\": collection_slug,\n",
        "          \"asset_contract_address\": \"0xbc4ca0eda7647a8ab7c2061c2e118a18a936f13d\",\n",
        "          }\n",
        "\n",
        "      headers = {\"Accept\": \"application/json\", 'x-api-key': \"9ef4a36cc8064a929723d5af5a3c3531\"}\n",
        "\n",
        "      response = requests.request(\"GET\", url, headers=headers, params=querystring)\n",
        "\n",
        "      rh\n",
        "      print(i)\n",
        "      if response.status_code != 200:\n",
        "          print(response)\n",
        "          print('error')\n",
        "          time.sleep(6)\n",
        "          continue\n",
        "      \n",
        "      #Getting meebits sales data\n",
        "      nft_sales = response.json()['asset_events']\n",
        "\n",
        "      if nft_sales == []:\n",
        "          print(response)\n",
        "          # break\n",
        "          continue\n",
        "      \n",
        "      #Parsing meebits sales data\n",
        "      parsed_nft_sales = [parse_sale_data(sale) for sale in nft_sales]\n",
        "\n",
        "      # convert json to pandas dataframe\n",
        "      nft_sales_df = pd.DataFrame(parsed_nft_sales)\n",
        "\n",
        "    # save dataframe to a separate csv & save csv to Google Drive\n",
        "      nft_sales_df.to_csv(sales_file_path, mode='a', sep='\\t', index=False, header=(not os.path.exists(sales_file_path)), encoding='utf-8')\n",
        "\n",
        "# this token_id addition isn't working as expected\n",
        "      # requested_token_ids.append(sale['asset']['token_id'] for sale in nft_sales)\n",
        "\n",
        "# print(sale['asset']['token_id'] for sale in nft_sales)\n",
        "\n",
        "    # else:\n",
        "    #   continue"
      ]
    },
    {
      "cell_type": "code",
      "execution_count": null,
      "metadata": {
        "colab": {
          "base_uri": "https://localhost:8080/"
        },
        "id": "72wF-0ymOxg7",
        "outputId": "981c8703-9dfa-4dc6-e270-e89f8a66d3e5"
      },
      "outputs": [
        {
          "name": "stdout",
          "output_type": "stream",
          "text": [
            "<class 'pandas.core.frame.DataFrame'>\n",
            "RangeIndex: 256 entries, 0 to 255\n",
            "Data columns (total 11 columns):\n",
            " #   Column            Non-Null Count  Dtype  \n",
            "---  ------            --------------  -----  \n",
            " 0   is_bundle         256 non-null    bool   \n",
            " 1   nft_id            256 non-null    int64  \n",
            " 2   seller_address    256 non-null    object \n",
            " 3   seller_username   232 non-null    object \n",
            " 4   buyer_address     256 non-null    object \n",
            " 5   buyer_username    214 non-null    object \n",
            " 6   timestamp         256 non-null    object \n",
            " 7   total_price       256 non-null    float64\n",
            " 8   payment_token     256 non-null    object \n",
            " 9   usd_price         256 non-null    float64\n",
            " 10  transaction_hash  256 non-null    object \n",
            "dtypes: bool(1), float64(2), int64(1), object(7)\n",
            "memory usage: 20.4+ KB\n"
          ]
        }
      ],
      "source": [
        "nft_sales_df = pd.read_csv(sales_file_path, sep='\\t')\n",
        "\n",
        "nft_sales_df.info()"
      ]
    },
    {
      "cell_type": "code",
      "execution_count": null,
      "metadata": {
        "colab": {
          "base_uri": "https://localhost:8080/"
        },
        "id": "-W2mO2-jPZRB",
        "outputId": "71fe38a5-c750-4de1-c544-b2599fd1a5c6"
      },
      "outputs": [
        {
          "data": {
            "text/plain": [
              "76      7\n",
              "99      6\n",
              "75      6\n",
              "67      6\n",
              "78      6\n",
              "       ..\n",
              "5552    1\n",
              "8647    1\n",
              "378     1\n",
              "1074    1\n",
              "35      1\n",
              "Name: nft_id, Length: 130, dtype: int64"
            ]
          },
          "execution_count": 12,
          "metadata": {},
          "output_type": "execute_result"
        }
      ],
      "source": [
        "nft_sales_df[\"nft_id\"].value_counts()"
      ]
    },
    {
      "cell_type": "code",
      "execution_count": null,
      "metadata": {
        "colab": {
          "base_uri": "https://localhost:8080/",
          "height": 357
        },
        "id": "TihdZGsjQisK",
        "outputId": "a87ea5ec-969a-4919-8388-615880685c33"
      },
      "outputs": [
        {
          "data": {
            "text/html": [
              "\n",
              "  <div id=\"df-4bb1e956-8f03-47b2-a580-a138e73c0fb1\">\n",
              "    <div class=\"colab-df-container\">\n",
              "      <div>\n",
              "<style scoped>\n",
              "    .dataframe tbody tr th:only-of-type {\n",
              "        vertical-align: middle;\n",
              "    }\n",
              "\n",
              "    .dataframe tbody tr th {\n",
              "        vertical-align: top;\n",
              "    }\n",
              "\n",
              "    .dataframe thead th {\n",
              "        text-align: right;\n",
              "    }\n",
              "</style>\n",
              "<table border=\"1\" class=\"dataframe\">\n",
              "  <thead>\n",
              "    <tr style=\"text-align: right;\">\n",
              "      <th></th>\n",
              "      <th>is_bundle</th>\n",
              "      <th>nft_id</th>\n",
              "      <th>seller_address</th>\n",
              "      <th>seller_username</th>\n",
              "      <th>buyer_address</th>\n",
              "      <th>buyer_username</th>\n",
              "      <th>timestamp</th>\n",
              "      <th>total_price</th>\n",
              "      <th>payment_token</th>\n",
              "      <th>usd_price</th>\n",
              "      <th>transaction_hash</th>\n",
              "    </tr>\n",
              "  </thead>\n",
              "  <tbody>\n",
              "    <tr>\n",
              "      <th>0</th>\n",
              "      <td>False</td>\n",
              "      <td>2221</td>\n",
              "      <td>0x47d4f20ae83bcd350105f199f900e6e6104dab6a</td>\n",
              "      <td>doh</td>\n",
              "      <td>0xe92ff0f4daf94a110cbd36c98a8e50662d8779e8</td>\n",
              "      <td>LizH</td>\n",
              "      <td>2022-02-12T06:25:42</td>\n",
              "      <td>9.800000e+19</td>\n",
              "      <td>ETH</td>\n",
              "      <td>2936.00</td>\n",
              "      <td>0x55a18cb12038b1222a2417911ab3cbe57b7e1569be1e...</td>\n",
              "    </tr>\n",
              "    <tr>\n",
              "      <th>1</th>\n",
              "      <td>False</td>\n",
              "      <td>4237</td>\n",
              "      <td>0x2779b18802900aa795bd284f4aa10777b1109ba4</td>\n",
              "      <td>ArtBlocksFanatic</td>\n",
              "      <td>0x7eb413211a9de1cd2fe8b8bb6055636c43f7d206</td>\n",
              "      <td>NaN</td>\n",
              "      <td>2022-02-12T05:43:10</td>\n",
              "      <td>1.110000e+20</td>\n",
              "      <td>WETH</td>\n",
              "      <td>2929.28</td>\n",
              "      <td>0x199d66227a45e82309b945c410895b4ce51ace6400eb...</td>\n",
              "    </tr>\n",
              "    <tr>\n",
              "      <th>2</th>\n",
              "      <td>False</td>\n",
              "      <td>1964</td>\n",
              "      <td>0x682306c109b41db56b4fdea915429ba4cc263321</td>\n",
              "      <td>NaN</td>\n",
              "      <td>0x500f2e800003f7f33e1edc76e3ae89b591f432a6</td>\n",
              "      <td>cryptocoiners</td>\n",
              "      <td>2022-02-12T04:42:14</td>\n",
              "      <td>9.569000e+19</td>\n",
              "      <td>ETH</td>\n",
              "      <td>2936.00</td>\n",
              "      <td>0xc375d63e656afd6ebee82a73b87606c5a8fba994dc2e...</td>\n",
              "    </tr>\n",
              "    <tr>\n",
              "      <th>3</th>\n",
              "      <td>False</td>\n",
              "      <td>6233</td>\n",
              "      <td>0xe3e009c63ee00d20f5ceeccf34df1dc08d68b5cf</td>\n",
              "      <td>BlueMagicBCRC</td>\n",
              "      <td>0x2edfa738dfcc3182c79646ea263b42f5734d914b</td>\n",
              "      <td>NaN</td>\n",
              "      <td>2022-02-12T04:31:11</td>\n",
              "      <td>9.500000e+19</td>\n",
              "      <td>ETH</td>\n",
              "      <td>2936.00</td>\n",
              "      <td>0x24ddfb741daa11fc1e6e5fec5ffef8489a121a099317...</td>\n",
              "    </tr>\n",
              "    <tr>\n",
              "      <th>4</th>\n",
              "      <td>False</td>\n",
              "      <td>3046</td>\n",
              "      <td>0xed47015bb8080b9399f9d0ddfc427b9cee2caab1</td>\n",
              "      <td>0xed4701</td>\n",
              "      <td>0x7eb413211a9de1cd2fe8b8bb6055636c43f7d206</td>\n",
              "      <td>NaN</td>\n",
              "      <td>2022-02-12T01:41:59</td>\n",
              "      <td>2.270000e+20</td>\n",
              "      <td>WETH</td>\n",
              "      <td>2929.28</td>\n",
              "      <td>0x502a190c0b1265375ce5665386700c2ae1ddd723419e...</td>\n",
              "    </tr>\n",
              "  </tbody>\n",
              "</table>\n",
              "</div>\n",
              "      <button class=\"colab-df-convert\" onclick=\"convertToInteractive('df-4bb1e956-8f03-47b2-a580-a138e73c0fb1')\"\n",
              "              title=\"Convert this dataframe to an interactive table.\"\n",
              "              style=\"display:none;\">\n",
              "        \n",
              "  <svg xmlns=\"http://www.w3.org/2000/svg\" height=\"24px\"viewBox=\"0 0 24 24\"\n",
              "       width=\"24px\">\n",
              "    <path d=\"M0 0h24v24H0V0z\" fill=\"none\"/>\n",
              "    <path d=\"M18.56 5.44l.94 2.06.94-2.06 2.06-.94-2.06-.94-.94-2.06-.94 2.06-2.06.94zm-11 1L8.5 8.5l.94-2.06 2.06-.94-2.06-.94L8.5 2.5l-.94 2.06-2.06.94zm10 10l.94 2.06.94-2.06 2.06-.94-2.06-.94-.94-2.06-.94 2.06-2.06.94z\"/><path d=\"M17.41 7.96l-1.37-1.37c-.4-.4-.92-.59-1.43-.59-.52 0-1.04.2-1.43.59L10.3 9.45l-7.72 7.72c-.78.78-.78 2.05 0 2.83L4 21.41c.39.39.9.59 1.41.59.51 0 1.02-.2 1.41-.59l7.78-7.78 2.81-2.81c.8-.78.8-2.07 0-2.86zM5.41 20L4 18.59l7.72-7.72 1.47 1.35L5.41 20z\"/>\n",
              "  </svg>\n",
              "      </button>\n",
              "      \n",
              "  <style>\n",
              "    .colab-df-container {\n",
              "      display:flex;\n",
              "      flex-wrap:wrap;\n",
              "      gap: 12px;\n",
              "    }\n",
              "\n",
              "    .colab-df-convert {\n",
              "      background-color: #E8F0FE;\n",
              "      border: none;\n",
              "      border-radius: 50%;\n",
              "      cursor: pointer;\n",
              "      display: none;\n",
              "      fill: #1967D2;\n",
              "      height: 32px;\n",
              "      padding: 0 0 0 0;\n",
              "      width: 32px;\n",
              "    }\n",
              "\n",
              "    .colab-df-convert:hover {\n",
              "      background-color: #E2EBFA;\n",
              "      box-shadow: 0px 1px 2px rgba(60, 64, 67, 0.3), 0px 1px 3px 1px rgba(60, 64, 67, 0.15);\n",
              "      fill: #174EA6;\n",
              "    }\n",
              "\n",
              "    [theme=dark] .colab-df-convert {\n",
              "      background-color: #3B4455;\n",
              "      fill: #D2E3FC;\n",
              "    }\n",
              "\n",
              "    [theme=dark] .colab-df-convert:hover {\n",
              "      background-color: #434B5C;\n",
              "      box-shadow: 0px 1px 3px 1px rgba(0, 0, 0, 0.15);\n",
              "      filter: drop-shadow(0px 1px 2px rgba(0, 0, 0, 0.3));\n",
              "      fill: #FFFFFF;\n",
              "    }\n",
              "  </style>\n",
              "\n",
              "      <script>\n",
              "        const buttonEl =\n",
              "          document.querySelector('#df-4bb1e956-8f03-47b2-a580-a138e73c0fb1 button.colab-df-convert');\n",
              "        buttonEl.style.display =\n",
              "          google.colab.kernel.accessAllowed ? 'block' : 'none';\n",
              "\n",
              "        async function convertToInteractive(key) {\n",
              "          const element = document.querySelector('#df-4bb1e956-8f03-47b2-a580-a138e73c0fb1');\n",
              "          const dataTable =\n",
              "            await google.colab.kernel.invokeFunction('convertToInteractive',\n",
              "                                                     [key], {});\n",
              "          if (!dataTable) return;\n",
              "\n",
              "          const docLinkHtml = 'Like what you see? Visit the ' +\n",
              "            '<a target=\"_blank\" href=https://colab.research.google.com/notebooks/data_table.ipynb>data table notebook</a>'\n",
              "            + ' to learn more about interactive tables.';\n",
              "          element.innerHTML = '';\n",
              "          dataTable['output_type'] = 'display_data';\n",
              "          await google.colab.output.renderOutput(dataTable, element);\n",
              "          const docLink = document.createElement('div');\n",
              "          docLink.innerHTML = docLinkHtml;\n",
              "          element.appendChild(docLink);\n",
              "        }\n",
              "      </script>\n",
              "    </div>\n",
              "  </div>\n",
              "  "
            ],
            "text/plain": [
              "   is_bundle  ...                                   transaction_hash\n",
              "0      False  ...  0x55a18cb12038b1222a2417911ab3cbe57b7e1569be1e...\n",
              "1      False  ...  0x199d66227a45e82309b945c410895b4ce51ace6400eb...\n",
              "2      False  ...  0xc375d63e656afd6ebee82a73b87606c5a8fba994dc2e...\n",
              "3      False  ...  0x24ddfb741daa11fc1e6e5fec5ffef8489a121a099317...\n",
              "4      False  ...  0x502a190c0b1265375ce5665386700c2ae1ddd723419e...\n",
              "\n",
              "[5 rows x 11 columns]"
            ]
          },
          "execution_count": 9,
          "metadata": {},
          "output_type": "execute_result"
        }
      ],
      "source": [
        "nft_sales_df.head()"
      ]
    },
    {
      "cell_type": "markdown",
      "metadata": {
        "id": "cVQ4JBQLTFx6"
      },
      "source": [
        "If the same transaction hash is found multiple times, remove them.\n",
        "\n",
        "This is to omit a fault in the API - sometimes it will return whatever it can if events aren't available for a specific token (no sales have happened)"
      ]
    },
    {
      "cell_type": "code",
      "execution_count": null,
      "metadata": {
        "id": "ShYm_-DbTItb"
      },
      "outputs": [],
      "source": []
    },
    {
      "cell_type": "markdown",
      "metadata": {
        "id": "E12bEwuXFlJ7"
      },
      "source": [
        "# 2.2. Analyzing Meebits Data and Meebits Sale Transactions\n",
        "\n",
        "Now that we have the data in MongoDB, we can start analyzing it. \n",
        "\n",
        "### 2.2.1. Reading the Data\n",
        "We start by reading both the assets data and the transactions data into 2 Pandas DataFrames."
      ]
    },
    {
      "cell_type": "code",
      "execution_count": null,
      "metadata": {
        "id": "ZVYfeu-vFlJ7"
      },
      "outputs": [],
      "source": [
        "meebits = meebits_collection.find()\n",
        "meebits_df = pd.DataFrame(meebits)\n",
        "\n",
        "meebit_sales = sales_collection.find()\n",
        "meebit_sales_df = pd.DataFrame(meebit_sales)"
      ]
    },
    {
      "cell_type": "code",
      "execution_count": null,
      "metadata": {
        "id": "Q2DvETfkFlJ7"
      },
      "outputs": [],
      "source": [
        "print(\"The database has information about %d Meebits.\" % len(meebits_df))\n",
        "print(\"The database has information about %d Meebits sale transactions.\" % len(meebit_sales_df))"
      ]
    },
    {
      "cell_type": "markdown",
      "metadata": {
        "id": "N792CR46FlJ8"
      },
      "source": [
        "### 2.2.2. Getting Top 10 Meebits Creators"
      ]
    },
    {
      "cell_type": "code",
      "execution_count": null,
      "metadata": {
        "id": "Y-jgVjOVFlJ8"
      },
      "outputs": [],
      "source": [
        "creators = []\n",
        "for creator_address in meebits_df['creator_address'].value_counts().index[:10]:\n",
        "    creator_data = {}\n",
        "    creator_data['creator_address'] = creator_address\n",
        "    creator_data['creator_username'] = meebits_df[meebits_df['creator_address'] == creator_address]['creator_username'].iloc[0]\n",
        "    creator_data['number_meebits'] = len(meebits_df[meebits_df['creator_address'] == creator_address])\n",
        "    creators.append(creator_data)\n",
        "\n",
        "pd.DataFrame(creators)"
      ]
    },
    {
      "cell_type": "code",
      "execution_count": null,
      "metadata": {
        "id": "xeLZpPYZFlJ9"
      },
      "outputs": [],
      "source": [
        "#### Getting total number of Meebit Creators and Owners.\n",
        "print(\"There are %d unique Meebit creators.\" % len(meebits_df['creator_address'].unique()))\n",
        "print(\"There are %d unique Meebit owners.\" % len(meebits_df['owner_address'].unique()))"
      ]
    },
    {
      "cell_type": "markdown",
      "metadata": {
        "id": "I7UvBKlwFlJ9"
      },
      "source": [
        "### 2.2.3. Getting Stats about Bundle/Single Sales and Types of Payment"
      ]
    },
    {
      "cell_type": "code",
      "execution_count": null,
      "metadata": {
        "id": "tgMdbrK3FlJ9"
      },
      "outputs": [],
      "source": [
        "meebit_sales_df['is_bundle'].value_counts()"
      ]
    },
    {
      "cell_type": "code",
      "execution_count": null,
      "metadata": {
        "id": "_po82FnsFlJ9"
      },
      "outputs": [],
      "source": [
        "meebit_sales_df[meebit_sales_df['is_bundle'] == False]['payment_token'].value_counts()"
      ]
    },
    {
      "cell_type": "markdown",
      "metadata": {
        "id": "-rt0b_mxFlJ9"
      },
      "source": [
        "### 2.2.4. Filering Sale Transactions and Adding New Features\n",
        "\n",
        "To make the analysis easier, we will only focus on single sales done in ETH or WETH."
      ]
    },
    {
      "cell_type": "code",
      "execution_count": null,
      "metadata": {
        "id": "l7MBAPXXFlJ-"
      },
      "outputs": [],
      "source": [
        "meebit_sales_df = meebit_sales_df[(meebit_sales_df['payment_token'] != 'USDC') & (meebit_sales_df['is_bundle'] == False)].copy()"
      ]
    },
    {
      "cell_type": "markdown",
      "metadata": {
        "id": "ECiww-fSFlJ-"
      },
      "source": [
        "Next, we do some data cleaning and we add a new feature"
      ]
    },
    {
      "cell_type": "code",
      "execution_count": null,
      "metadata": {
        "id": "JQyY_hCPFlJ-"
      },
      "outputs": [],
      "source": [
        "# Parsing dates\n",
        "meebit_sales_df['timestamp'] = pd.to_datetime(meebit_sales_df['timestamp'])\n",
        "# Converting sales price from WEI to ETH\n",
        "meebit_sales_df['total_price'] = meebit_sales_df['total_price']/10.**18\n",
        "# Calculating the sale prices in USD\n",
        "meebit_sales_df['total_price_usd'] = meebit_sales_df['total_price'] * meebit_sales_df['usd_price']"
      ]
    },
    {
      "cell_type": "markdown",
      "metadata": {
        "id": "Che2ZxiHFlJ-"
      },
      "source": [
        "### 2.2.5. Meebits Sales Timelines\n",
        "\n",
        "#### Total Number of Sales per Day"
      ]
    },
    {
      "cell_type": "code",
      "execution_count": null,
      "metadata": {
        "id": "6nnjTYE0FlJ-",
        "scrolled": false
      },
      "outputs": [],
      "source": [
        "data = meebit_sales_df[['timestamp', 'total_price']].resample('D', on='timestamp').count()['total_price']\n",
        "ax = data.plot.bar(figsize=(18, 6))\n",
        "\n",
        "ax.set_alpha(0.8)\n",
        "ax.set_title(\"Number of Meebits Sales per Day\", fontsize=18)\n",
        "ax.set_ylabel(\"Number of Meebits Sales\", fontsize=18)\n",
        "\n",
        "#https://github.com/pandas-dev/pandas/issues/1918\n",
        "plt.gca().xaxis.set_major_formatter(plt.FixedFormatter(data.index.to_series().dt.strftime(\"%d %b %Y\")))\n",
        "\n",
        "#https://robertmitchellv.com/blog-bar-chart-annotations-pandas-mpl.html\n",
        "for i in ax.patches:\n",
        "    # get_x pulls left or right; get_height pushes up or down\n",
        "    ax.text(i.get_x(), i.get_height()+40, \\\n",
        "            str(round((i.get_height()), 2)), fontsize=11, color='dimgrey',\n",
        "                rotation=45)"
      ]
    },
    {
      "cell_type": "markdown",
      "metadata": {
        "id": "OWaoHpVoFlJ-"
      },
      "source": [
        "#### Total Sales per Day in ETH"
      ]
    },
    {
      "cell_type": "code",
      "execution_count": null,
      "metadata": {
        "id": "ctJCf54jFlJ_",
        "scrolled": false
      },
      "outputs": [],
      "source": [
        "data = meebit_sales_df[['timestamp', 'total_price']].resample('D', on='timestamp').sum()['total_price']\n",
        "ax = data.plot(figsize=(18,6), color=\"red\", linewidth=1, marker='o', markerfacecolor='grey', markeredgewidth=0)\n",
        "\n",
        "ax.set_alpha(0.8)\n",
        "ax.set_title(\"Timeline of Total Meebit Sales in ETH\", fontsize=18)\n",
        "ax.set_ylabel(\"Sales in ETH\", fontsize=18);\n",
        "\n",
        "dates = list(data.index)\n",
        "values = list(data.values)\n",
        "\n",
        "for i, j in zip(dates, values):\n",
        "    ax.annotate(s=\"{:.0f}\".format(j), xy=(i, j+200), rotation=45)"
      ]
    },
    {
      "cell_type": "markdown",
      "metadata": {
        "id": "F-L-DravFlJ_"
      },
      "source": [
        "#### Total Sales per day in USD"
      ]
    },
    {
      "cell_type": "code",
      "execution_count": null,
      "metadata": {
        "id": "bDwpp1SyFlJ_",
        "scrolled": false
      },
      "outputs": [],
      "source": [
        "data = meebit_sales_df[['timestamp', 'total_price_usd']].resample('D', on='timestamp').sum()['total_price_usd']\n",
        "ax = data.plot(figsize=(18,6), color=\"red\", linewidth=1, marker='o', markerfacecolor='grey', markeredgewidth=0)\n",
        "\n",
        "ax.set_alpha(0.8)\n",
        "ax.set_title(\"Timeline of Total Meebit Sales in Million USD\", fontsize=18)\n",
        "ax.set_ylabel(\"Sales in Million USD\", fontsize=18);\n",
        "\n",
        "dates = list(data.index)\n",
        "values = list(data.values)\n",
        "\n",
        "for i, j in zip(dates, values):\n",
        "    ax.annotate(s=\"{:.2f}\".format(j/10.**6), xy=(i, j), rotation=45)"
      ]
    },
    {
      "cell_type": "markdown",
      "metadata": {
        "id": "St-eFBuOFlJ_"
      },
      "source": [
        "### 2.2.6. Meebits Prices Timelines "
      ]
    },
    {
      "cell_type": "markdown",
      "metadata": {
        "id": "u1Al4nBoFlJ_"
      },
      "source": [
        "#### Average Meebit Price per Day in ETH "
      ]
    },
    {
      "cell_type": "code",
      "execution_count": null,
      "metadata": {
        "id": "mjoE0tEtFlJ_"
      },
      "outputs": [],
      "source": [
        "data = meebit_sales_df[['timestamp', 'total_price']].resample('D', on='timestamp').mean()['total_price']\n",
        "ax = data.plot(figsize=(18,6), color=\"green\", linewidth=1, marker='o', markerfacecolor='grey', markeredgewidth=0)\n",
        "\n",
        "ax.set_alpha(0.8)\n",
        "ax.set_title(\"Timeline of Average Meebit Price in ETH\", fontsize=18)\n",
        "ax.set_ylabel(\"Average Price in ETH\", fontsize=18);\n",
        "#ax.annotate(s='sdsdsds', xy=(1, 1))\n",
        "\n",
        "dates = list(data.index)\n",
        "values = list(data.values)\n",
        "\n",
        "for i, j in zip(dates, values):\n",
        "    ax.annotate(s=\"{:.2f}\".format(j), xy=(i, j+.2), rotation=45)"
      ]
    },
    {
      "cell_type": "markdown",
      "metadata": {
        "id": "YNhWrQVGFlKA"
      },
      "source": [
        "#### Floor Meebit Price per Day in ETH"
      ]
    },
    {
      "cell_type": "code",
      "execution_count": null,
      "metadata": {
        "id": "y1OQH24eFlKA"
      },
      "outputs": [],
      "source": [
        "data = meebit_sales_df[['timestamp', 'total_price']].resample('D', on='timestamp').min()['total_price']\n",
        "ax = data.plot(figsize=(18,6), color=\"orange\", linewidth=1, marker='o', markerfacecolor='grey', markeredgewidth=0)\n",
        "\n",
        "ax.set_alpha(0.8)\n",
        "ax.set_title(\"Timeline of Floor Meebit Price in ETH\", fontsize=18)\n",
        "ax.set_ylabel(\"Floor Price in ETH\", fontsize=18);\n",
        "\n",
        "dates = list(data.index)\n",
        "values = list(data.values)\n",
        "\n",
        "for d, v in zip(dates, values):\n",
        "    ax.annotate(s=\"{:.2f}\".format(v), xy=(d, v), rotation=45)"
      ]
    },
    {
      "cell_type": "markdown",
      "metadata": {
        "id": "_TzbIHKeFlKA"
      },
      "source": [
        "#### Max Meebit Price per Day in ETH"
      ]
    },
    {
      "cell_type": "code",
      "execution_count": null,
      "metadata": {
        "id": "j_rVVo8eFlKA"
      },
      "outputs": [],
      "source": [
        "data = meebit_sales_df[['timestamp', 'total_price']].resample('D', on='timestamp').max()['total_price']\n",
        "ax = data.plot(figsize=(18,6), color=\"red\", linewidth=1, marker='o', markerfacecolor='grey', markeredgewidth=0)\n",
        "\n",
        "ax.set_alpha(0.8)\n",
        "ax.set_title(\"Timeline of Max Meebit Price in ETH\", fontsize=18)\n",
        "ax.set_ylabel(\"Max Price in ETH\", fontsize=18);\n",
        "\n",
        "dates = list(data.index)\n",
        "values = list(data.values)\n",
        "\n",
        "for i, j in zip(dates, values):\n",
        "    ax.annotate(s=\"{:.0f}\".format(j), xy=(i, j+30), rotation=45)"
      ]
    },
    {
      "cell_type": "markdown",
      "metadata": {
        "id": "gb2tfGTcFlKA"
      },
      "source": [
        "### 2.2.6. Analyzing Meebits' Sellers and Buyers"
      ]
    },
    {
      "cell_type": "code",
      "execution_count": null,
      "metadata": {
        "id": "zFutDgxyFlKB"
      },
      "outputs": [],
      "source": [
        "print(\"There are %d unique Meebit sellers.\" % len(meebit_sales_df['seller_address'].unique()))\n",
        "print(\"There are %d unique Meebit buyers.\" % len(meebit_sales_df['buyer_address'].unique()))"
      ]
    },
    {
      "cell_type": "markdown",
      "metadata": {
        "id": "SdV69K7QFlKB"
      },
      "source": [
        "#### Getting Top 10 Meebits Buyers"
      ]
    },
    {
      "cell_type": "code",
      "execution_count": null,
      "metadata": {
        "id": "jlUI3SQOFlKB"
      },
      "outputs": [],
      "source": [
        "buyers = []\n",
        "for buyer_address in meebit_sales_df['buyer_address'].value_counts().index[:10]:\n",
        "    buyer_data = {}\n",
        "    buyer_data['buyer_address'] = buyer_address\n",
        "    buyer_data['buyer_username'] = meebit_sales_df[meebit_sales_df['buyer_address'] == buyer_address]['buyer_username'].iloc[0]\n",
        "    buyer_data['number_buys'] = len(meebit_sales_df[meebit_sales_df['buyer_address'] == buyer_address])\n",
        "    buyer_data['min_price'] = meebit_sales_df[meebit_sales_df['buyer_address'] == buyer_address]['total_price'].min()\n",
        "    buyer_data['max_price'] = meebit_sales_df[meebit_sales_df['buyer_address'] == buyer_address]['total_price'].max()\n",
        "    buyer_data['mean_price'] = meebit_sales_df[meebit_sales_df['buyer_address'] == buyer_address]['total_price'].mean()\n",
        "    buyers.append(buyer_data)\n",
        "    \n",
        "pd.DataFrame(buyers)"
      ]
    },
    {
      "cell_type": "markdown",
      "metadata": {
        "id": "xHq3s9m4FlKB"
      },
      "source": [
        "#### Getting Top 10 Meebits Sellers"
      ]
    },
    {
      "cell_type": "code",
      "execution_count": null,
      "metadata": {
        "id": "K6CHRM6oFlKB"
      },
      "outputs": [],
      "source": [
        "sellers = []\n",
        "for seller_address in meebit_sales_df['seller_address'].value_counts().index[:10]:\n",
        "    seller_data = {}\n",
        "    seller_data['seller_address'] = seller_address\n",
        "    seller_data['seller_username'] = meebit_sales_df[meebit_sales_df['seller_address'] == seller_address]['seller_username'].iloc[0]\n",
        "    seller_data['number_sales'] = len(meebit_sales_df[meebit_sales_df['seller_address'] == seller_address])\n",
        "    seller_data['min_price'] = meebit_sales_df[meebit_sales_df['seller_address'] == seller_address]['total_price'].min()\n",
        "    seller_data['max_price'] = meebit_sales_df[meebit_sales_df['seller_address'] == seller_address]['total_price'].max()\n",
        "    seller_data['mean_price'] = meebit_sales_df[meebit_sales_df['seller_address'] == seller_address]['total_price'].mean()\n",
        "    sellers.append(seller_data)\n",
        "    \n",
        "pd.DataFrame(sellers)"
      ]
    },
    {
      "cell_type": "markdown",
      "metadata": {
        "id": "uyiFnQJAFlKB"
      },
      "source": [
        "#### Intersection of Top 10 Buyers and Top 10 sellers"
      ]
    },
    {
      "cell_type": "code",
      "execution_count": null,
      "metadata": {
        "id": "TnReLfpqFlKB"
      },
      "outputs": [],
      "source": [
        "top_10_buyers = meebit_sales_df['buyer_address'].value_counts().index[:10]\n",
        "top_10_sellers = meebit_sales_df['seller_address'].value_counts().index[:10]\n",
        "print(list(set(top_10_buyers) & set(top_10_sellers)))"
      ]
    },
    {
      "cell_type": "markdown",
      "metadata": {
        "id": "HiFKmb7SFlKC"
      },
      "source": [
        "#### Getting Number of Sales between same Buyers and Sellers "
      ]
    },
    {
      "cell_type": "code",
      "execution_count": null,
      "metadata": {
        "id": "pW2sY_XYFlKC"
      },
      "outputs": [],
      "source": [
        "(meebit_sales_df['seller_address'] + meebit_sales_df['buyer_address']).value_counts().value_counts()"
      ]
    },
    {
      "cell_type": "markdown",
      "metadata": {
        "id": "aNAqOWEZngRe"
      },
      "source": [
        "# Fix data"
      ]
    },
    {
      "cell_type": "code",
      "execution_count": null,
      "metadata": {
        "colab": {
          "base_uri": "https://localhost:8080/",
          "height": 405
        },
        "id": "ePN6qBiTnjmv",
        "outputId": "66c43eec-eab2-4352-ff16-622ec5131a1c"
      },
      "outputs": [
        {
          "name": "stdout",
          "output_type": "stream",
          "text": [
            "Drive already mounted at drive; to attempt to forcibly remount, call drive.mount(\"drive\", force_remount=True).\n"
          ]
        },
        {
          "data": {
            "text/html": [
              "\n",
              "  <div id=\"df-cb1a7b6f-5d48-49df-8890-f8921ef35043\">\n",
              "    <div class=\"colab-df-container\">\n",
              "      <div>\n",
              "<style scoped>\n",
              "    .dataframe tbody tr th:only-of-type {\n",
              "        vertical-align: middle;\n",
              "    }\n",
              "\n",
              "    .dataframe tbody tr th {\n",
              "        vertical-align: top;\n",
              "    }\n",
              "\n",
              "    .dataframe thead th {\n",
              "        text-align: right;\n",
              "    }\n",
              "</style>\n",
              "<table border=\"1\" class=\"dataframe\">\n",
              "  <thead>\n",
              "    <tr style=\"text-align: right;\">\n",
              "      <th></th>\n",
              "      <th>nft_id</th>\n",
              "      <th>name</th>\n",
              "      <th>asset_description</th>\n",
              "      <th>asset_contract_address</th>\n",
              "      <th>collection_name</th>\n",
              "      <th>collection_description</th>\n",
              "      <th>collection_slug</th>\n",
              "      <th>collection_verification</th>\n",
              "      <th>creator_username</th>\n",
              "      <th>creator_address</th>\n",
              "      <th>...</th>\n",
              "      <th>owner_profile_img_url</th>\n",
              "      <th>traits_string</th>\n",
              "      <th>total_rarity</th>\n",
              "      <th>num_sales</th>\n",
              "      <th>last_sale_timestamp</th>\n",
              "      <th>last_sale_total_price</th>\n",
              "      <th>last_sale_from_account_address</th>\n",
              "      <th>top_bid</th>\n",
              "      <th>open_sea_link</th>\n",
              "      <th>image_url</th>\n",
              "    </tr>\n",
              "  </thead>\n",
              "  <tbody>\n",
              "    <tr>\n",
              "      <th>0</th>\n",
              "      <td>9974</td>\n",
              "      <td>NaN</td>\n",
              "      <td>NaN</td>\n",
              "      <td>0xbc4ca0eda7647a8ab7c2061c2e118a18a936f13d</td>\n",
              "      <td>Bored Ape Yacht Club</td>\n",
              "      <td>The Bored Ape Yacht Club is a collection of 10...</td>\n",
              "      <td>boredapeyachtclub</td>\n",
              "      <td>True</td>\n",
              "      <td>BoredApeYachtClub</td>\n",
              "      <td>0xaba7161a7fb69c88e16ed9f455ce62b791ee4d03</td>\n",
              "      <td>...</td>\n",
              "      <td>https://storage.googleapis.com/opensea-static/...</td>\n",
              "      <td>eyeseyepatch;;hatseaman'shat;;clothesrainbowsu...</td>\n",
              "      <td>204.051791</td>\n",
              "      <td>2</td>\n",
              "      <td>2021-05-09T16:46:27</td>\n",
              "      <td>500000000000000000</td>\n",
              "      <td>0x994cf01f34c51426bcb12bd30ff7079e280e1140</td>\n",
              "      <td>NaN</td>\n",
              "      <td>https://opensea.io/assets/0xbc4ca0eda7647a8ab7...</td>\n",
              "      <td>https://lh3.googleusercontent.com/G60LFd7Xhb4-...</td>\n",
              "    </tr>\n",
              "    <tr>\n",
              "      <th>1</th>\n",
              "      <td>9973</td>\n",
              "      <td>NaN</td>\n",
              "      <td>NaN</td>\n",
              "      <td>0xbc4ca0eda7647a8ab7c2061c2e118a18a936f13d</td>\n",
              "      <td>Bored Ape Yacht Club</td>\n",
              "      <td>The Bored Ape Yacht Club is a collection of 10...</td>\n",
              "      <td>boredapeyachtclub</td>\n",
              "      <td>True</td>\n",
              "      <td>BoredApeYachtClub</td>\n",
              "      <td>0xaba7161a7fb69c88e16ed9f455ce62b791ee4d03</td>\n",
              "      <td>...</td>\n",
              "      <td>https://storage.googleapis.com/opensea-static/...</td>\n",
              "      <td>furdmt;;hatgirl'shairpink;;eyesrobot;;backgrou...</td>\n",
              "      <td>182.516792</td>\n",
              "      <td>1</td>\n",
              "      <td>2021-05-01T16:24:22</td>\n",
              "      <td>580000000000000000</td>\n",
              "      <td>0x078ad2aa3b4527e4996d087906b2a3da51bba122</td>\n",
              "      <td>NaN</td>\n",
              "      <td>https://opensea.io/assets/0xbc4ca0eda7647a8ab7...</td>\n",
              "      <td>https://lh3.googleusercontent.com/-4Pz6B1FkH8k...</td>\n",
              "    </tr>\n",
              "    <tr>\n",
              "      <th>2</th>\n",
              "      <td>9949</td>\n",
              "      <td>NaN</td>\n",
              "      <td>NaN</td>\n",
              "      <td>0xbc4ca0eda7647a8ab7c2061c2e118a18a936f13d</td>\n",
              "      <td>Bored Ape Yacht Club</td>\n",
              "      <td>The Bored Ape Yacht Club is a collection of 10...</td>\n",
              "      <td>boredapeyachtclub</td>\n",
              "      <td>True</td>\n",
              "      <td>BoredApeYachtClub</td>\n",
              "      <td>0xaba7161a7fb69c88e16ed9f455ce62b791ee4d03</td>\n",
              "      <td>...</td>\n",
              "      <td>https://storage.googleapis.com/opensea-static/...</td>\n",
              "      <td>mouthgringoldgrill;;furtan;;hatseaman'shat;;ey...</td>\n",
              "      <td>221.356456</td>\n",
              "      <td>7</td>\n",
              "      <td>2021-11-21T10:04:02</td>\n",
              "      <td>85800000000000000000</td>\n",
              "      <td>0x91e1543bf18cc3c7a25e682f9c20cf8bd6f28548</td>\n",
              "      <td>NaN</td>\n",
              "      <td>https://opensea.io/assets/0xbc4ca0eda7647a8ab7...</td>\n",
              "      <td>https://lh3.googleusercontent.com/RcXAgekWgaH5...</td>\n",
              "    </tr>\n",
              "    <tr>\n",
              "      <th>3</th>\n",
              "      <td>9972</td>\n",
              "      <td>NaN</td>\n",
              "      <td>NaN</td>\n",
              "      <td>0xbc4ca0eda7647a8ab7c2061c2e118a18a936f13d</td>\n",
              "      <td>Bored Ape Yacht Club</td>\n",
              "      <td>The Bored Ape Yacht Club is a collection of 10...</td>\n",
              "      <td>boredapeyachtclub</td>\n",
              "      <td>True</td>\n",
              "      <td>BoredApeYachtClub</td>\n",
              "      <td>0xaba7161a7fb69c88e16ed9f455ce62b791ee4d03</td>\n",
              "      <td>...</td>\n",
              "      <td>https://storage.googleapis.com/opensea-static/...</td>\n",
              "      <td>eyeshypnotized;;mouthrage;;backgroundaquamarin...</td>\n",
              "      <td>149.528746</td>\n",
              "      <td>1</td>\n",
              "      <td>2021-05-01T11:03:09</td>\n",
              "      <td>150000000000000000</td>\n",
              "      <td>0x02eb75be1e72e988de64f0088d654d8ea1081e87</td>\n",
              "      <td>NaN</td>\n",
              "      <td>https://opensea.io/assets/0xbc4ca0eda7647a8ab7...</td>\n",
              "      <td>https://lh3.googleusercontent.com/vcL_TRKR8FRq...</td>\n",
              "    </tr>\n",
              "    <tr>\n",
              "      <th>4</th>\n",
              "      <td>9948</td>\n",
              "      <td>NaN</td>\n",
              "      <td>NaN</td>\n",
              "      <td>0xbc4ca0eda7647a8ab7c2061c2e118a18a936f13d</td>\n",
              "      <td>Bored Ape Yacht Club</td>\n",
              "      <td>The Bored Ape Yacht Club is a collection of 10...</td>\n",
              "      <td>boredapeyachtclub</td>\n",
              "      <td>True</td>\n",
              "      <td>BoredApeYachtClub</td>\n",
              "      <td>0xaba7161a7fb69c88e16ed9f455ce62b791ee4d03</td>\n",
              "      <td>...</td>\n",
              "      <td>https://storage.googleapis.com/opensea-static/...</td>\n",
              "      <td>hattrippycaptain'shat;;furcream;;eyesbloodshot...</td>\n",
              "      <td>268.580759</td>\n",
              "      <td>2</td>\n",
              "      <td>2021-05-03T02:45:55</td>\n",
              "      <td>1750000000000000000</td>\n",
              "      <td>0xecba5f51925e6ccec26da38dcd7d5305f6bdfbcb</td>\n",
              "      <td>NaN</td>\n",
              "      <td>https://opensea.io/assets/0xbc4ca0eda7647a8ab7...</td>\n",
              "      <td>https://lh3.googleusercontent.com/jMsgIXhlR0Xe...</td>\n",
              "    </tr>\n",
              "  </tbody>\n",
              "</table>\n",
              "<p>5 rows × 23 columns</p>\n",
              "</div>\n",
              "      <button class=\"colab-df-convert\" onclick=\"convertToInteractive('df-cb1a7b6f-5d48-49df-8890-f8921ef35043')\"\n",
              "              title=\"Convert this dataframe to an interactive table.\"\n",
              "              style=\"display:none;\">\n",
              "        \n",
              "  <svg xmlns=\"http://www.w3.org/2000/svg\" height=\"24px\"viewBox=\"0 0 24 24\"\n",
              "       width=\"24px\">\n",
              "    <path d=\"M0 0h24v24H0V0z\" fill=\"none\"/>\n",
              "    <path d=\"M18.56 5.44l.94 2.06.94-2.06 2.06-.94-2.06-.94-.94-2.06-.94 2.06-2.06.94zm-11 1L8.5 8.5l.94-2.06 2.06-.94-2.06-.94L8.5 2.5l-.94 2.06-2.06.94zm10 10l.94 2.06.94-2.06 2.06-.94-2.06-.94-.94-2.06-.94 2.06-2.06.94z\"/><path d=\"M17.41 7.96l-1.37-1.37c-.4-.4-.92-.59-1.43-.59-.52 0-1.04.2-1.43.59L10.3 9.45l-7.72 7.72c-.78.78-.78 2.05 0 2.83L4 21.41c.39.39.9.59 1.41.59.51 0 1.02-.2 1.41-.59l7.78-7.78 2.81-2.81c.8-.78.8-2.07 0-2.86zM5.41 20L4 18.59l7.72-7.72 1.47 1.35L5.41 20z\"/>\n",
              "  </svg>\n",
              "      </button>\n",
              "      \n",
              "  <style>\n",
              "    .colab-df-container {\n",
              "      display:flex;\n",
              "      flex-wrap:wrap;\n",
              "      gap: 12px;\n",
              "    }\n",
              "\n",
              "    .colab-df-convert {\n",
              "      background-color: #E8F0FE;\n",
              "      border: none;\n",
              "      border-radius: 50%;\n",
              "      cursor: pointer;\n",
              "      display: none;\n",
              "      fill: #1967D2;\n",
              "      height: 32px;\n",
              "      padding: 0 0 0 0;\n",
              "      width: 32px;\n",
              "    }\n",
              "\n",
              "    .colab-df-convert:hover {\n",
              "      background-color: #E2EBFA;\n",
              "      box-shadow: 0px 1px 2px rgba(60, 64, 67, 0.3), 0px 1px 3px 1px rgba(60, 64, 67, 0.15);\n",
              "      fill: #174EA6;\n",
              "    }\n",
              "\n",
              "    [theme=dark] .colab-df-convert {\n",
              "      background-color: #3B4455;\n",
              "      fill: #D2E3FC;\n",
              "    }\n",
              "\n",
              "    [theme=dark] .colab-df-convert:hover {\n",
              "      background-color: #434B5C;\n",
              "      box-shadow: 0px 1px 3px 1px rgba(0, 0, 0, 0.15);\n",
              "      filter: drop-shadow(0px 1px 2px rgba(0, 0, 0, 0.3));\n",
              "      fill: #FFFFFF;\n",
              "    }\n",
              "  </style>\n",
              "\n",
              "      <script>\n",
              "        const buttonEl =\n",
              "          document.querySelector('#df-cb1a7b6f-5d48-49df-8890-f8921ef35043 button.colab-df-convert');\n",
              "        buttonEl.style.display =\n",
              "          google.colab.kernel.accessAllowed ? 'block' : 'none';\n",
              "\n",
              "        async function convertToInteractive(key) {\n",
              "          const element = document.querySelector('#df-cb1a7b6f-5d48-49df-8890-f8921ef35043');\n",
              "          const dataTable =\n",
              "            await google.colab.kernel.invokeFunction('convertToInteractive',\n",
              "                                                     [key], {});\n",
              "          if (!dataTable) return;\n",
              "\n",
              "          const docLinkHtml = 'Like what you see? Visit the ' +\n",
              "            '<a target=\"_blank\" href=https://colab.research.google.com/notebooks/data_table.ipynb>data table notebook</a>'\n",
              "            + ' to learn more about interactive tables.';\n",
              "          element.innerHTML = '';\n",
              "          dataTable['output_type'] = 'display_data';\n",
              "          await google.colab.output.renderOutput(dataTable, element);\n",
              "          const docLink = document.createElement('div');\n",
              "          docLink.innerHTML = docLinkHtml;\n",
              "          element.appendChild(docLink);\n",
              "        }\n",
              "      </script>\n",
              "    </div>\n",
              "  </div>\n",
              "  "
            ],
            "text/plain": [
              "   nft_id  name  asset_description  \\\n",
              "0    9974   NaN                NaN   \n",
              "1    9973   NaN                NaN   \n",
              "2    9949   NaN                NaN   \n",
              "3    9972   NaN                NaN   \n",
              "4    9948   NaN                NaN   \n",
              "\n",
              "                       asset_contract_address       collection_name  \\\n",
              "0  0xbc4ca0eda7647a8ab7c2061c2e118a18a936f13d  Bored Ape Yacht Club   \n",
              "1  0xbc4ca0eda7647a8ab7c2061c2e118a18a936f13d  Bored Ape Yacht Club   \n",
              "2  0xbc4ca0eda7647a8ab7c2061c2e118a18a936f13d  Bored Ape Yacht Club   \n",
              "3  0xbc4ca0eda7647a8ab7c2061c2e118a18a936f13d  Bored Ape Yacht Club   \n",
              "4  0xbc4ca0eda7647a8ab7c2061c2e118a18a936f13d  Bored Ape Yacht Club   \n",
              "\n",
              "                              collection_description    collection_slug  \\\n",
              "0  The Bored Ape Yacht Club is a collection of 10...  boredapeyachtclub   \n",
              "1  The Bored Ape Yacht Club is a collection of 10...  boredapeyachtclub   \n",
              "2  The Bored Ape Yacht Club is a collection of 10...  boredapeyachtclub   \n",
              "3  The Bored Ape Yacht Club is a collection of 10...  boredapeyachtclub   \n",
              "4  The Bored Ape Yacht Club is a collection of 10...  boredapeyachtclub   \n",
              "\n",
              "   collection_verification   creator_username  \\\n",
              "0                     True  BoredApeYachtClub   \n",
              "1                     True  BoredApeYachtClub   \n",
              "2                     True  BoredApeYachtClub   \n",
              "3                     True  BoredApeYachtClub   \n",
              "4                     True  BoredApeYachtClub   \n",
              "\n",
              "                              creator_address  ...  \\\n",
              "0  0xaba7161a7fb69c88e16ed9f455ce62b791ee4d03  ...   \n",
              "1  0xaba7161a7fb69c88e16ed9f455ce62b791ee4d03  ...   \n",
              "2  0xaba7161a7fb69c88e16ed9f455ce62b791ee4d03  ...   \n",
              "3  0xaba7161a7fb69c88e16ed9f455ce62b791ee4d03  ...   \n",
              "4  0xaba7161a7fb69c88e16ed9f455ce62b791ee4d03  ...   \n",
              "\n",
              "                               owner_profile_img_url  \\\n",
              "0  https://storage.googleapis.com/opensea-static/...   \n",
              "1  https://storage.googleapis.com/opensea-static/...   \n",
              "2  https://storage.googleapis.com/opensea-static/...   \n",
              "3  https://storage.googleapis.com/opensea-static/...   \n",
              "4  https://storage.googleapis.com/opensea-static/...   \n",
              "\n",
              "                                       traits_string total_rarity num_sales  \\\n",
              "0  eyeseyepatch;;hatseaman'shat;;clothesrainbowsu...   204.051791         2   \n",
              "1  furdmt;;hatgirl'shairpink;;eyesrobot;;backgrou...   182.516792         1   \n",
              "2  mouthgringoldgrill;;furtan;;hatseaman'shat;;ey...   221.356456         7   \n",
              "3  eyeshypnotized;;mouthrage;;backgroundaquamarin...   149.528746         1   \n",
              "4  hattrippycaptain'shat;;furcream;;eyesbloodshot...   268.580759         2   \n",
              "\n",
              "   last_sale_timestamp  last_sale_total_price  \\\n",
              "0  2021-05-09T16:46:27     500000000000000000   \n",
              "1  2021-05-01T16:24:22     580000000000000000   \n",
              "2  2021-11-21T10:04:02   85800000000000000000   \n",
              "3  2021-05-01T11:03:09     150000000000000000   \n",
              "4  2021-05-03T02:45:55    1750000000000000000   \n",
              "\n",
              "               last_sale_from_account_address top_bid  \\\n",
              "0  0x994cf01f34c51426bcb12bd30ff7079e280e1140     NaN   \n",
              "1  0x078ad2aa3b4527e4996d087906b2a3da51bba122     NaN   \n",
              "2  0x91e1543bf18cc3c7a25e682f9c20cf8bd6f28548     NaN   \n",
              "3  0x02eb75be1e72e988de64f0088d654d8ea1081e87     NaN   \n",
              "4  0xecba5f51925e6ccec26da38dcd7d5305f6bdfbcb     NaN   \n",
              "\n",
              "                                       open_sea_link  \\\n",
              "0  https://opensea.io/assets/0xbc4ca0eda7647a8ab7...   \n",
              "1  https://opensea.io/assets/0xbc4ca0eda7647a8ab7...   \n",
              "2  https://opensea.io/assets/0xbc4ca0eda7647a8ab7...   \n",
              "3  https://opensea.io/assets/0xbc4ca0eda7647a8ab7...   \n",
              "4  https://opensea.io/assets/0xbc4ca0eda7647a8ab7...   \n",
              "\n",
              "                                           image_url  \n",
              "0  https://lh3.googleusercontent.com/G60LFd7Xhb4-...  \n",
              "1  https://lh3.googleusercontent.com/-4Pz6B1FkH8k...  \n",
              "2  https://lh3.googleusercontent.com/RcXAgekWgaH5...  \n",
              "3  https://lh3.googleusercontent.com/vcL_TRKR8FRq...  \n",
              "4  https://lh3.googleusercontent.com/jMsgIXhlR0Xe...  \n",
              "\n",
              "[5 rows x 23 columns]"
            ]
          },
          "execution_count": 7,
          "metadata": {},
          "output_type": "execute_result"
        }
      ],
      "source": [
        "from google.colab import drive\n",
        "drive.mount('drive')\n",
        "\n",
        "assets_file_path = \"/content/drive/MyDrive/Datasets/FYP/bayc-nft-assets-updated\"\n",
        "df = pd.read_csv(assets_file_path, sep='\\t')\n",
        "\n",
        "# df = df[['nft_id','traits_string','asset_contract_address', 'total_rarity']]\n",
        "df.head()"
      ]
    },
    {
      "cell_type": "code",
      "execution_count": null,
      "metadata": {
        "colab": {
          "base_uri": "https://localhost:8080/",
          "height": 386
        },
        "id": "_QbXzd-Gnsis",
        "outputId": "d6a4627d-24aa-4320-ba93-a8fbb288d4c2"
      },
      "outputs": [
        {
          "data": {
            "text/html": [
              "\n",
              "  <div id=\"df-04e63477-f51d-41c8-ab60-c416c0a416f3\">\n",
              "    <div class=\"colab-df-container\">\n",
              "      <div>\n",
              "<style scoped>\n",
              "    .dataframe tbody tr th:only-of-type {\n",
              "        vertical-align: middle;\n",
              "    }\n",
              "\n",
              "    .dataframe tbody tr th {\n",
              "        vertical-align: top;\n",
              "    }\n",
              "\n",
              "    .dataframe thead th {\n",
              "        text-align: right;\n",
              "    }\n",
              "</style>\n",
              "<table border=\"1\" class=\"dataframe\">\n",
              "  <thead>\n",
              "    <tr style=\"text-align: right;\">\n",
              "      <th></th>\n",
              "      <th>nft_id</th>\n",
              "      <th>name</th>\n",
              "      <th>asset_description</th>\n",
              "      <th>asset_contract_address</th>\n",
              "      <th>collection_name</th>\n",
              "      <th>collection_description</th>\n",
              "      <th>collection_slug</th>\n",
              "      <th>collection_verification</th>\n",
              "      <th>creator_username</th>\n",
              "      <th>creator_address</th>\n",
              "      <th>...</th>\n",
              "      <th>owner_profile_img_url</th>\n",
              "      <th>traits_string</th>\n",
              "      <th>total_rarity</th>\n",
              "      <th>num_sales</th>\n",
              "      <th>last_sale_timestamp</th>\n",
              "      <th>last_sale_total_price</th>\n",
              "      <th>last_sale_from_account_address</th>\n",
              "      <th>top_bid</th>\n",
              "      <th>open_sea_link</th>\n",
              "      <th>image_url</th>\n",
              "    </tr>\n",
              "  </thead>\n",
              "  <tbody>\n",
              "    <tr>\n",
              "      <th>0</th>\n",
              "      <td>9974</td>\n",
              "      <td>NaN</td>\n",
              "      <td>NaN</td>\n",
              "      <td>0xbc4ca0eda7647a8ab7c2061c2e118a18a936f13d</td>\n",
              "      <td>Bored Ape Yacht Club</td>\n",
              "      <td>The Bored Ape Yacht Club is a collection of 10...</td>\n",
              "      <td>boredapeyachtclub</td>\n",
              "      <td>True</td>\n",
              "      <td>BoredApeYachtClub</td>\n",
              "      <td>0xaba7161a7fb69c88e16ed9f455ce62b791ee4d03</td>\n",
              "      <td>...</td>\n",
              "      <td>https://storage.googleapis.com/opensea-static/...</td>\n",
              "      <td>eyeseyepatch;;hatseaman'shat;;clothesrainbowsu...</td>\n",
              "      <td>204.051791</td>\n",
              "      <td>2</td>\n",
              "      <td>2021-05-09T16:46:27</td>\n",
              "      <td>500000000000000000</td>\n",
              "      <td>0x994cf01f34c51426bcb12bd30ff7079e280e1140</td>\n",
              "      <td>NaN</td>\n",
              "      <td>https://opensea.io/assets/0xbc4ca0eda7647a8ab7...</td>\n",
              "      <td>https://lh3.googleusercontent.com/G60LFd7Xhb4-...</td>\n",
              "    </tr>\n",
              "    <tr>\n",
              "      <th>1</th>\n",
              "      <td>9973</td>\n",
              "      <td>NaN</td>\n",
              "      <td>NaN</td>\n",
              "      <td>0xbc4ca0eda7647a8ab7c2061c2e118a18a936f13d</td>\n",
              "      <td>Bored Ape Yacht Club</td>\n",
              "      <td>The Bored Ape Yacht Club is a collection of 10...</td>\n",
              "      <td>boredapeyachtclub</td>\n",
              "      <td>True</td>\n",
              "      <td>BoredApeYachtClub</td>\n",
              "      <td>0xaba7161a7fb69c88e16ed9f455ce62b791ee4d03</td>\n",
              "      <td>...</td>\n",
              "      <td>https://storage.googleapis.com/opensea-static/...</td>\n",
              "      <td>furdmt;;hatgirl'shairpink;;eyesrobot;;backgrou...</td>\n",
              "      <td>182.516792</td>\n",
              "      <td>1</td>\n",
              "      <td>2021-05-01T16:24:22</td>\n",
              "      <td>580000000000000000</td>\n",
              "      <td>0x078ad2aa3b4527e4996d087906b2a3da51bba122</td>\n",
              "      <td>NaN</td>\n",
              "      <td>https://opensea.io/assets/0xbc4ca0eda7647a8ab7...</td>\n",
              "      <td>https://lh3.googleusercontent.com/-4Pz6B1FkH8k...</td>\n",
              "    </tr>\n",
              "    <tr>\n",
              "      <th>2</th>\n",
              "      <td>9949</td>\n",
              "      <td>NaN</td>\n",
              "      <td>NaN</td>\n",
              "      <td>0xbc4ca0eda7647a8ab7c2061c2e118a18a936f13d</td>\n",
              "      <td>Bored Ape Yacht Club</td>\n",
              "      <td>The Bored Ape Yacht Club is a collection of 10...</td>\n",
              "      <td>boredapeyachtclub</td>\n",
              "      <td>True</td>\n",
              "      <td>BoredApeYachtClub</td>\n",
              "      <td>0xaba7161a7fb69c88e16ed9f455ce62b791ee4d03</td>\n",
              "      <td>...</td>\n",
              "      <td>https://storage.googleapis.com/opensea-static/...</td>\n",
              "      <td>mouthgringoldgrill;;furtan;;hatseaman'shat;;ey...</td>\n",
              "      <td>221.356456</td>\n",
              "      <td>7</td>\n",
              "      <td>2021-11-21T10:04:02</td>\n",
              "      <td>85800000000000000000</td>\n",
              "      <td>0x91e1543bf18cc3c7a25e682f9c20cf8bd6f28548</td>\n",
              "      <td>NaN</td>\n",
              "      <td>https://opensea.io/assets/0xbc4ca0eda7647a8ab7...</td>\n",
              "      <td>https://lh3.googleusercontent.com/RcXAgekWgaH5...</td>\n",
              "    </tr>\n",
              "    <tr>\n",
              "      <th>3</th>\n",
              "      <td>9972</td>\n",
              "      <td>NaN</td>\n",
              "      <td>NaN</td>\n",
              "      <td>0xbc4ca0eda7647a8ab7c2061c2e118a18a936f13d</td>\n",
              "      <td>Bored Ape Yacht Club</td>\n",
              "      <td>The Bored Ape Yacht Club is a collection of 10...</td>\n",
              "      <td>boredapeyachtclub</td>\n",
              "      <td>True</td>\n",
              "      <td>BoredApeYachtClub</td>\n",
              "      <td>0xaba7161a7fb69c88e16ed9f455ce62b791ee4d03</td>\n",
              "      <td>...</td>\n",
              "      <td>https://storage.googleapis.com/opensea-static/...</td>\n",
              "      <td>eyeshypnotized;;mouthrage;;backgroundaquamarin...</td>\n",
              "      <td>149.528746</td>\n",
              "      <td>1</td>\n",
              "      <td>2021-05-01T11:03:09</td>\n",
              "      <td>150000000000000000</td>\n",
              "      <td>0x02eb75be1e72e988de64f0088d654d8ea1081e87</td>\n",
              "      <td>NaN</td>\n",
              "      <td>https://opensea.io/assets/0xbc4ca0eda7647a8ab7...</td>\n",
              "      <td>https://lh3.googleusercontent.com/vcL_TRKR8FRq...</td>\n",
              "    </tr>\n",
              "    <tr>\n",
              "      <th>4</th>\n",
              "      <td>9948</td>\n",
              "      <td>NaN</td>\n",
              "      <td>NaN</td>\n",
              "      <td>0xbc4ca0eda7647a8ab7c2061c2e118a18a936f13d</td>\n",
              "      <td>Bored Ape Yacht Club</td>\n",
              "      <td>The Bored Ape Yacht Club is a collection of 10...</td>\n",
              "      <td>boredapeyachtclub</td>\n",
              "      <td>True</td>\n",
              "      <td>BoredApeYachtClub</td>\n",
              "      <td>0xaba7161a7fb69c88e16ed9f455ce62b791ee4d03</td>\n",
              "      <td>...</td>\n",
              "      <td>https://storage.googleapis.com/opensea-static/...</td>\n",
              "      <td>hattrippycaptain'shat;;furcream;;eyesbloodshot...</td>\n",
              "      <td>268.580759</td>\n",
              "      <td>2</td>\n",
              "      <td>2021-05-03T02:45:55</td>\n",
              "      <td>1750000000000000000</td>\n",
              "      <td>0xecba5f51925e6ccec26da38dcd7d5305f6bdfbcb</td>\n",
              "      <td>NaN</td>\n",
              "      <td>https://opensea.io/assets/0xbc4ca0eda7647a8ab7...</td>\n",
              "      <td>https://lh3.googleusercontent.com/jMsgIXhlR0Xe...</td>\n",
              "    </tr>\n",
              "  </tbody>\n",
              "</table>\n",
              "<p>5 rows × 23 columns</p>\n",
              "</div>\n",
              "      <button class=\"colab-df-convert\" onclick=\"convertToInteractive('df-04e63477-f51d-41c8-ab60-c416c0a416f3')\"\n",
              "              title=\"Convert this dataframe to an interactive table.\"\n",
              "              style=\"display:none;\">\n",
              "        \n",
              "  <svg xmlns=\"http://www.w3.org/2000/svg\" height=\"24px\"viewBox=\"0 0 24 24\"\n",
              "       width=\"24px\">\n",
              "    <path d=\"M0 0h24v24H0V0z\" fill=\"none\"/>\n",
              "    <path d=\"M18.56 5.44l.94 2.06.94-2.06 2.06-.94-2.06-.94-.94-2.06-.94 2.06-2.06.94zm-11 1L8.5 8.5l.94-2.06 2.06-.94-2.06-.94L8.5 2.5l-.94 2.06-2.06.94zm10 10l.94 2.06.94-2.06 2.06-.94-2.06-.94-.94-2.06-.94 2.06-2.06.94z\"/><path d=\"M17.41 7.96l-1.37-1.37c-.4-.4-.92-.59-1.43-.59-.52 0-1.04.2-1.43.59L10.3 9.45l-7.72 7.72c-.78.78-.78 2.05 0 2.83L4 21.41c.39.39.9.59 1.41.59.51 0 1.02-.2 1.41-.59l7.78-7.78 2.81-2.81c.8-.78.8-2.07 0-2.86zM5.41 20L4 18.59l7.72-7.72 1.47 1.35L5.41 20z\"/>\n",
              "  </svg>\n",
              "      </button>\n",
              "      \n",
              "  <style>\n",
              "    .colab-df-container {\n",
              "      display:flex;\n",
              "      flex-wrap:wrap;\n",
              "      gap: 12px;\n",
              "    }\n",
              "\n",
              "    .colab-df-convert {\n",
              "      background-color: #E8F0FE;\n",
              "      border: none;\n",
              "      border-radius: 50%;\n",
              "      cursor: pointer;\n",
              "      display: none;\n",
              "      fill: #1967D2;\n",
              "      height: 32px;\n",
              "      padding: 0 0 0 0;\n",
              "      width: 32px;\n",
              "    }\n",
              "\n",
              "    .colab-df-convert:hover {\n",
              "      background-color: #E2EBFA;\n",
              "      box-shadow: 0px 1px 2px rgba(60, 64, 67, 0.3), 0px 1px 3px 1px rgba(60, 64, 67, 0.15);\n",
              "      fill: #174EA6;\n",
              "    }\n",
              "\n",
              "    [theme=dark] .colab-df-convert {\n",
              "      background-color: #3B4455;\n",
              "      fill: #D2E3FC;\n",
              "    }\n",
              "\n",
              "    [theme=dark] .colab-df-convert:hover {\n",
              "      background-color: #434B5C;\n",
              "      box-shadow: 0px 1px 3px 1px rgba(0, 0, 0, 0.15);\n",
              "      filter: drop-shadow(0px 1px 2px rgba(0, 0, 0, 0.3));\n",
              "      fill: #FFFFFF;\n",
              "    }\n",
              "  </style>\n",
              "\n",
              "      <script>\n",
              "        const buttonEl =\n",
              "          document.querySelector('#df-04e63477-f51d-41c8-ab60-c416c0a416f3 button.colab-df-convert');\n",
              "        buttonEl.style.display =\n",
              "          google.colab.kernel.accessAllowed ? 'block' : 'none';\n",
              "\n",
              "        async function convertToInteractive(key) {\n",
              "          const element = document.querySelector('#df-04e63477-f51d-41c8-ab60-c416c0a416f3');\n",
              "          const dataTable =\n",
              "            await google.colab.kernel.invokeFunction('convertToInteractive',\n",
              "                                                     [key], {});\n",
              "          if (!dataTable) return;\n",
              "\n",
              "          const docLinkHtml = 'Like what you see? Visit the ' +\n",
              "            '<a target=\"_blank\" href=https://colab.research.google.com/notebooks/data_table.ipynb>data table notebook</a>'\n",
              "            + ' to learn more about interactive tables.';\n",
              "          element.innerHTML = '';\n",
              "          dataTable['output_type'] = 'display_data';\n",
              "          await google.colab.output.renderOutput(dataTable, element);\n",
              "          const docLink = document.createElement('div');\n",
              "          docLink.innerHTML = docLinkHtml;\n",
              "          element.appendChild(docLink);\n",
              "        }\n",
              "      </script>\n",
              "    </div>\n",
              "  </div>\n",
              "  "
            ],
            "text/plain": [
              "   nft_id  name  asset_description  \\\n",
              "0    9974   NaN                NaN   \n",
              "1    9973   NaN                NaN   \n",
              "2    9949   NaN                NaN   \n",
              "3    9972   NaN                NaN   \n",
              "4    9948   NaN                NaN   \n",
              "\n",
              "                       asset_contract_address       collection_name  \\\n",
              "0  0xbc4ca0eda7647a8ab7c2061c2e118a18a936f13d  Bored Ape Yacht Club   \n",
              "1  0xbc4ca0eda7647a8ab7c2061c2e118a18a936f13d  Bored Ape Yacht Club   \n",
              "2  0xbc4ca0eda7647a8ab7c2061c2e118a18a936f13d  Bored Ape Yacht Club   \n",
              "3  0xbc4ca0eda7647a8ab7c2061c2e118a18a936f13d  Bored Ape Yacht Club   \n",
              "4  0xbc4ca0eda7647a8ab7c2061c2e118a18a936f13d  Bored Ape Yacht Club   \n",
              "\n",
              "                              collection_description    collection_slug  \\\n",
              "0  The Bored Ape Yacht Club is a collection of 10...  boredapeyachtclub   \n",
              "1  The Bored Ape Yacht Club is a collection of 10...  boredapeyachtclub   \n",
              "2  The Bored Ape Yacht Club is a collection of 10...  boredapeyachtclub   \n",
              "3  The Bored Ape Yacht Club is a collection of 10...  boredapeyachtclub   \n",
              "4  The Bored Ape Yacht Club is a collection of 10...  boredapeyachtclub   \n",
              "\n",
              "   collection_verification   creator_username  \\\n",
              "0                     True  BoredApeYachtClub   \n",
              "1                     True  BoredApeYachtClub   \n",
              "2                     True  BoredApeYachtClub   \n",
              "3                     True  BoredApeYachtClub   \n",
              "4                     True  BoredApeYachtClub   \n",
              "\n",
              "                              creator_address  ...  \\\n",
              "0  0xaba7161a7fb69c88e16ed9f455ce62b791ee4d03  ...   \n",
              "1  0xaba7161a7fb69c88e16ed9f455ce62b791ee4d03  ...   \n",
              "2  0xaba7161a7fb69c88e16ed9f455ce62b791ee4d03  ...   \n",
              "3  0xaba7161a7fb69c88e16ed9f455ce62b791ee4d03  ...   \n",
              "4  0xaba7161a7fb69c88e16ed9f455ce62b791ee4d03  ...   \n",
              "\n",
              "                               owner_profile_img_url  \\\n",
              "0  https://storage.googleapis.com/opensea-static/...   \n",
              "1  https://storage.googleapis.com/opensea-static/...   \n",
              "2  https://storage.googleapis.com/opensea-static/...   \n",
              "3  https://storage.googleapis.com/opensea-static/...   \n",
              "4  https://storage.googleapis.com/opensea-static/...   \n",
              "\n",
              "                                       traits_string total_rarity num_sales  \\\n",
              "0  eyeseyepatch;;hatseaman'shat;;clothesrainbowsu...   204.051791         2   \n",
              "1  furdmt;;hatgirl'shairpink;;eyesrobot;;backgrou...   182.516792         1   \n",
              "2  mouthgringoldgrill;;furtan;;hatseaman'shat;;ey...   221.356456         7   \n",
              "3  eyeshypnotized;;mouthrage;;backgroundaquamarin...   149.528746         1   \n",
              "4  hattrippycaptain'shat;;furcream;;eyesbloodshot...   268.580759         2   \n",
              "\n",
              "   last_sale_timestamp  last_sale_total_price  \\\n",
              "0  2021-05-09T16:46:27     500000000000000000   \n",
              "1  2021-05-01T16:24:22     580000000000000000   \n",
              "2  2021-11-21T10:04:02   85800000000000000000   \n",
              "3  2021-05-01T11:03:09     150000000000000000   \n",
              "4  2021-05-03T02:45:55    1750000000000000000   \n",
              "\n",
              "               last_sale_from_account_address top_bid  \\\n",
              "0  0x994cf01f34c51426bcb12bd30ff7079e280e1140     NaN   \n",
              "1  0x078ad2aa3b4527e4996d087906b2a3da51bba122     NaN   \n",
              "2  0x91e1543bf18cc3c7a25e682f9c20cf8bd6f28548     NaN   \n",
              "3  0x02eb75be1e72e988de64f0088d654d8ea1081e87     NaN   \n",
              "4  0xecba5f51925e6ccec26da38dcd7d5305f6bdfbcb     NaN   \n",
              "\n",
              "                                       open_sea_link  \\\n",
              "0  https://opensea.io/assets/0xbc4ca0eda7647a8ab7...   \n",
              "1  https://opensea.io/assets/0xbc4ca0eda7647a8ab7...   \n",
              "2  https://opensea.io/assets/0xbc4ca0eda7647a8ab7...   \n",
              "3  https://opensea.io/assets/0xbc4ca0eda7647a8ab7...   \n",
              "4  https://opensea.io/assets/0xbc4ca0eda7647a8ab7...   \n",
              "\n",
              "                                           image_url  \n",
              "0  https://lh3.googleusercontent.com/G60LFd7Xhb4-...  \n",
              "1  https://lh3.googleusercontent.com/-4Pz6B1FkH8k...  \n",
              "2  https://lh3.googleusercontent.com/RcXAgekWgaH5...  \n",
              "3  https://lh3.googleusercontent.com/vcL_TRKR8FRq...  \n",
              "4  https://lh3.googleusercontent.com/jMsgIXhlR0Xe...  \n",
              "\n",
              "[5 rows x 23 columns]"
            ]
          },
          "execution_count": 5,
          "metadata": {},
          "output_type": "execute_result"
        }
      ],
      "source": [
        "df['traits_string'] = df['traits_string'].str.replace(';',';;')\n",
        "df.head()"
      ]
    },
    {
      "cell_type": "code",
      "execution_count": null,
      "metadata": {
        "id": "7Nr3PlwLoHKN"
      },
      "outputs": [],
      "source": [
        "import os\n",
        "updated_assets_file_path = \"/content/drive/MyDrive/Datasets/FYP/bayc-nft-assets-updated\"\n",
        "\n",
        "#  save updated dataframe to csv & save csv to Google Drive\n",
        "df.to_csv(updated_assets_file_path, mode='a', sep='\\t', index=False, header=(not os.path.exists(updated_assets_file_path)), encoding='utf-8')"
      ]
    }
  ],
  "metadata": {
    "colab": {
      "collapsed_sections": [],
      "name": "data-mining-nfts.ipynb",
      "provenance": [],
      "toc_visible": true
    },
    "kernelspec": {
      "display_name": "Python 3",
      "language": "python",
      "name": "python3"
    },
    "language_info": {
      "codemirror_mode": {
        "name": "ipython",
        "version": 3
      },
      "file_extension": ".py",
      "mimetype": "text/x-python",
      "name": "python",
      "nbconvert_exporter": "python",
      "pygments_lexer": "ipython3",
      "version": "3.6.8"
    }
  },
  "nbformat": 4,
  "nbformat_minor": 0
}
